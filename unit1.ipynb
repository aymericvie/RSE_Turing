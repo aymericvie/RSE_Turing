{
 "cells": [
  {
   "cell_type": "markdown",
   "metadata": {},
   "source": [
    "# 1. Introduction to Python\n",
    "\n",
    "## Introduction"
   ]
  },
  {
   "cell_type": "markdown",
   "metadata": {},
   "source": [
    "Jupyter notebooks consist of markdown cells and code cells. In markdown, we can write in **bold** and *italic* or also:\n",
    "> Quote."
   ]
  },
  {
   "cell_type": "markdown",
   "metadata": {},
   "source": [
    "Shortcuts:\n",
    "* b to create a new code block below the cursor\n",
    "* m to turn a code block into markdown block"
   ]
  },
  {
   "cell_type": "markdown",
   "metadata": {},
   "source": [
    "Libraries, comments, functions, variables, plotting graphs."
   ]
  },
  {
   "cell_type": "markdown",
   "metadata": {},
   "source": [
    "## Variables\n",
    "\n",
    "### Variables assignment\n",
    "\n",
    "Generating a result displays it, but it is not kept anywhere. To store a result, we use a variable."
   ]
  },
  {
   "cell_type": "code",
   "execution_count": 109,
   "metadata": {},
   "outputs": [
    {
     "name": "stdout",
     "output_type": "stream",
     "text": [
      "6\n"
     ]
    }
   ],
   "source": [
    "six = 2 * 3\n",
    "print(six)"
   ]
  },
  {
   "cell_type": "markdown",
   "metadata": {},
   "source": [
    "If we **reassign** the variable, the data that was there before has been lost."
   ]
  },
  {
   "cell_type": "code",
   "execution_count": 110,
   "metadata": {},
   "outputs": [
    {
     "name": "stdout",
     "output_type": "stream",
     "text": [
      "36\n"
     ]
    }
   ],
   "source": [
    "six = six * six\n",
    "print(six)"
   ]
  },
  {
   "cell_type": "markdown",
   "metadata": {},
   "source": [
    "In fact, it is the **label** that was moved. Let us check it when we have more than one label refering to the same box:"
   ]
  },
  {
   "cell_type": "code",
   "execution_count": 111,
   "metadata": {},
   "outputs": [
    {
     "name": "stdout",
     "output_type": "stream",
     "text": [
      "James\n",
      "James\n"
     ]
    }
   ],
   "source": [
    "name = \"James\"\n",
    "nom = name\n",
    "print(nom)\n",
    "print(name)"
   ]
  },
  {
   "cell_type": "code",
   "execution_count": 112,
   "metadata": {},
   "outputs": [
    {
     "name": "stdout",
     "output_type": "stream",
     "text": [
      "James\n",
      "Heterington\n"
     ]
    }
   ],
   "source": [
    "nom = \"Heterington\"\n",
    "print(name)\n",
    "print(nom)"
   ]
  },
  {
   "cell_type": "markdown",
   "metadata": {},
   "source": [
    "Each box is a piece of space in computer memory. Each label (variable) is a refernece to such a place. If there are no labels on a box, the data in the box cannot be found anymore, making the space available for more data."
   ]
  },
  {
   "cell_type": "code",
   "execution_count": 113,
   "metadata": {},
   "outputs": [],
   "source": [
    "name = \"Jim\""
   ]
  },
  {
   "cell_type": "markdown",
   "metadata": {},
   "source": [
    "When writing this:\n",
    "* A new text **object** is created and a memory address found for it\n",
    "* Variable \"name\" is moved to refer to that address\n",
    "* The old address containing \"James\" now has no labels\n",
    "* The garbage collector frees the memory at the old address"
   ]
  },
  {
   "cell_type": "markdown",
   "metadata": {},
   "source": [
    "### Objects and types\n",
    "\n",
    "Objects have types. For example:"
   ]
  },
  {
   "cell_type": "code",
   "execution_count": 114,
   "metadata": {},
   "outputs": [
    {
     "data": {
      "text/plain": [
       "str"
      ]
     },
     "execution_count": 114,
     "metadata": {},
     "output_type": "execute_result"
    }
   ],
   "source": [
    "type(name)"
   ]
  },
  {
   "cell_type": "markdown",
   "metadata": {},
   "source": [
    "Depending on its type, an object can have different *properties*: data fields inside the object."
   ]
  },
  {
   "cell_type": "code",
   "execution_count": 115,
   "metadata": {},
   "outputs": [
    {
     "name": "stdout",
     "output_type": "stream",
     "text": [
      "['__abs__', '__add__', '__bool__', '__class__', '__delattr__', '__dir__', '__divmod__', '__doc__', '__eq__', '__float__', '__floordiv__', '__format__', '__ge__', '__getattribute__', '__getnewargs__', '__gt__', '__hash__', '__init__', '__init_subclass__', '__int__', '__le__', '__lt__', '__mod__', '__mul__', '__ne__', '__neg__', '__new__', '__pos__', '__pow__', '__radd__', '__rdivmod__', '__reduce__', '__reduce_ex__', '__repr__', '__rfloordiv__', '__rmod__', '__rmul__', '__rpow__', '__rsub__', '__rtruediv__', '__setattr__', '__sizeof__', '__str__', '__sub__', '__subclasshook__', '__truediv__', 'conjugate', 'imag', 'real']\n",
      "<class 'complex'>\n",
      "3.0\n",
      "1.0\n"
     ]
    }
   ],
   "source": [
    "z = 3+1j\n",
    "print(dir(z))\n",
    "\n",
    "print(type(z))\n",
    "print(z.real) \n",
    "print(z.imag)"
   ]
  },
  {
   "cell_type": "markdown",
   "metadata": {},
   "source": [
    "``dir`` shows the properties and methods an object has available. \n",
    "\n",
    "We access a property of an object with a dot, the dot operator. If the property does not exist, we get an error."
   ]
  },
  {
   "cell_type": "markdown",
   "metadata": {},
   "source": [
    "## Using Functions\n",
    "\n",
    "Objects come associated with a bunch of functions for working on objects of that type. They are accessed with a dot and are called **methods**."
   ]
  },
  {
   "cell_type": "code",
   "execution_count": 116,
   "metadata": {},
   "outputs": [
    {
     "data": {
      "text/plain": [
       "'SHOUT'"
      ]
     },
     "execution_count": 116,
     "metadata": {},
     "output_type": "execute_result"
    }
   ],
   "source": [
    "\"shout\".upper()"
   ]
  },
  {
   "cell_type": "code",
   "execution_count": 117,
   "metadata": {},
   "outputs": [
    {
     "name": "stdout",
     "output_type": "stream",
     "text": [
      "<class 'int'>\n"
     ]
    }
   ],
   "source": [
    "x = 5\n",
    "print(type(x))"
   ]
  },
  {
   "cell_type": "markdown",
   "metadata": {},
   "source": [
    "Using a method defined for a different type, or that does not exist, results in an error. \n",
    "\n",
    "Methods and properties are both kinds of **attributes**, both accessed by the dot operator. Objects can have both properties and methods:"
   ]
  },
  {
   "cell_type": "code",
   "execution_count": 118,
   "metadata": {},
   "outputs": [
    {
     "name": "stdout",
     "output_type": "stream",
     "text": [
      "1.0\n",
      "(1-5j)\n",
      "<built-in method conjugate of complex object at 0x7fedf8da3e70>\n"
     ]
    }
   ],
   "source": [
    "z = 1+5j\n",
    "print(z.real)\n",
    "print(z.conjugate())\n",
    "print(z.conjugate)"
   ]
  },
  {
   "cell_type": "markdown",
   "metadata": {},
   "source": [
    "### Functions are just a type of object\n",
    "\n",
    "If we forget the ```()```, *a method is just a property which is a function*.\n",
    "\n",
    "Functions are just a kind of variable, and we can assign new labels to them."
   ]
  },
  {
   "cell_type": "code",
   "execution_count": 119,
   "metadata": {},
   "outputs": [
    {
     "name": "stdout",
     "output_type": "stream",
     "text": [
      "[1, 3, 4, 5]\n",
      "<class 'builtin_function_or_method'>\n",
      "[1, 3, 7, 9]\n"
     ]
    }
   ],
   "source": [
    "print(sorted([1, 5, 3, 4]))\n",
    "magic = sorted\n",
    "print(type(magic))\n",
    "print(magic([3, 7, 9, 1]))"
   ]
  },
  {
   "cell_type": "markdown",
   "metadata": {},
   "source": [
    "### Operators \n",
    "\n",
    "Opeators are +, -. Their meaning varies for different types."
   ]
  },
  {
   "cell_type": "code",
   "execution_count": 120,
   "metadata": {},
   "outputs": [
    {
     "name": "stdout",
     "output_type": "stream",
     "text": [
      "HelloHello\n",
      "5\n",
      "[2, 3, 4, 5, 6]\n"
     ]
    }
   ],
   "source": [
    "print(\"Hello\" + \"Hello\")\n",
    "print(2+3)\n",
    "print([2,3,4] + [5,6])"
   ]
  },
  {
   "cell_type": "markdown",
   "metadata": {},
   "source": [
    "We get errors if a type does not have an operator, or when two types cannot work together with an operator.\n",
    "\n",
    "The operand is the argument an operator operates on.\n",
    "\n",
    "The meaning of an operator varies depending on the type it is applied to."
   ]
  },
  {
   "cell_type": "code",
   "execution_count": 121,
   "metadata": {},
   "outputs": [],
   "source": [
    "# [2,3,4] - [5,6]\n",
    "# TypeError: unsupported operand type(s) for -: 'list' and \n",
    "# 'list'\n",
    "\n",
    "# [2,3,4] + 5\n",
    "# TypeError: can only concatenate list (not \"int\") to list"
   ]
  },
  {
   "cell_type": "markdown",
   "metadata": {},
   "source": [
    "## Types\n",
    "\n",
    "Python has two core numeric types: ```int``` for integers and ```float``` for real numbers.\n",
    "\n",
    "A dot makes it a float, although zero after a point is optional."
   ]
  },
  {
   "cell_type": "code",
   "execution_count": 122,
   "metadata": {},
   "outputs": [
    {
     "name": "stdout",
     "output_type": "stream",
     "text": [
      "<class 'float'>\n"
     ]
    }
   ],
   "source": [
    "z = 1.\n",
    "print(type(z))"
   ]
  },
  {
   "cell_type": "markdown",
   "metadata": {},
   "source": [
    "There is a function for every type name, which converts the input to an output of the desired type."
   ]
  },
  {
   "cell_type": "code",
   "execution_count": 123,
   "metadata": {},
   "outputs": [
    {
     "name": "stdout",
     "output_type": "stream",
     "text": [
      "3\n",
      "3.3333333333333335\n",
      "3.3333333333333335\n",
      "3\n"
     ]
    }
   ],
   "source": [
    "print(10 // 3)\n",
    "print(10 / 3.)\n",
    "print(10 / float(3))\n",
    "print(10 // int(3.))"
   ]
  },
  {
   "cell_type": "markdown",
   "metadata": {},
   "source": [
    "### Lists\n",
    "\n",
    "Python's basic container type is the list, defined with square brackets.\n",
    "\n",
    "Lists can contain multiple types.\n",
    "\n",
    "We can access lists **elements** with an ```int``` in square brackets."
   ]
  },
  {
   "cell_type": "code",
   "execution_count": 124,
   "metadata": {},
   "outputs": [
    {
     "name": "stdout",
     "output_type": "stream",
     "text": [
      "<class 'list'>\n",
      "apple\n"
     ]
    }
   ],
   "source": [
    "a = [1, 2, 3., \"apple\"]\n",
    "print(type(a))\n",
    "print(a[3])"
   ]
  },
  {
   "cell_type": "markdown",
   "metadata": {},
   "source": [
    "A matrix can be represented by **nesting** lists: putting lists inside other lists."
   ]
  },
  {
   "cell_type": "code",
   "execution_count": 125,
   "metadata": {},
   "outputs": [
    {
     "data": {
      "text/plain": [
       "1"
      ]
     },
     "execution_count": 125,
     "metadata": {},
     "output_type": "execute_result"
    }
   ],
   "source": [
    "identity = [[1,0],[0,1]]\n",
    "identity[0][0]"
   ]
  },
  {
   "cell_type": "markdown",
   "metadata": {},
   "source": [
    "### Ranges\n",
    "\n",
    "Anoter useful type is ```range```, giving a sequence of consecutive numbers."
   ]
  },
  {
   "cell_type": "code",
   "execution_count": 126,
   "metadata": {},
   "outputs": [
    {
     "data": {
      "text/plain": [
       "range(0, 5)"
      ]
     },
     "execution_count": 126,
     "metadata": {},
     "output_type": "execute_result"
    }
   ],
   "source": [
    "range(5)"
   ]
  },
  {
   "cell_type": "markdown",
   "metadata": {},
   "source": [
    "We do't see the contents because they have not been generated yet."
   ]
  },
  {
   "cell_type": "code",
   "execution_count": 127,
   "metadata": {},
   "outputs": [
    {
     "name": "stdout",
     "output_type": "stream",
     "text": [
      "[0, 1, 2, 3, 4]\n"
     ]
    }
   ],
   "source": [
    "print(list(range(5)))"
   ]
  },
  {
   "cell_type": "markdown",
   "metadata": {},
   "source": [
    "### Sequences\n",
    "\n",
    "Many things can be treated like lists. Objects that can be treated like lists are called ```sequences```. For example: strings.\n",
    "\n",
    "Sequences support operatiosn such as:\n",
    "* accessing a single element at a given index ```sequence[index]```\n",
    "* accessing multiple elements, a **slice** ```sequence[start:end_plus_one]```\n",
    "* getting the length of a sequence ```len(sequence)```\n",
    "* checking whether the sequence contains an element ```element in sequence```"
   ]
  },
  {
   "cell_type": "markdown",
   "metadata": {},
   "source": [
    "### Unpacking\n",
    "\n",
    "Multiple values can be **unpacked** when assigning from sequences."
   ]
  },
  {
   "cell_type": "code",
   "execution_count": 128,
   "metadata": {},
   "outputs": [
    {
     "name": "stdout",
     "output_type": "stream",
     "text": [
      "World\n"
     ]
    }
   ],
   "source": [
    "mylist = [\"Hello\", \"World\"]\n",
    "a, b = mylist\n",
    "print(b)"
   ]
  },
  {
   "cell_type": "markdown",
   "metadata": {},
   "source": [
    "Python provides a syntax to split a sequence into its first \"head\" element and the others (\"tail\")."
   ]
  },
  {
   "cell_type": "code",
   "execution_count": 129,
   "metadata": {},
   "outputs": [
    {
     "name": "stdout",
     "output_type": "stream",
     "text": [
      "0\n",
      "[1, 2, 3]\n"
     ]
    }
   ],
   "source": [
    "head, *tail = range(4)\n",
    "print(head)\n",
    "print(tail)"
   ]
  },
  {
   "cell_type": "code",
   "execution_count": 130,
   "metadata": {},
   "outputs": [
    {
     "name": "stdout",
     "output_type": "stream",
     "text": [
      "0\n",
      "[1, 2, 3, 4, 5, 6, 7, 8]\n",
      "9\n"
     ]
    }
   ],
   "source": [
    "one, *two, three = range(10)\n",
    "print(one)\n",
    "print(two)\n",
    "print(three)"
   ]
  },
  {
   "cell_type": "markdown",
   "metadata": {},
   "source": [
    "## Containers\n",
    "\n",
    "### Checking for containment\n",
    "\n",
    "The ```list``` is a container type: its purpose is to hold other objects. \n",
    "\n",
    "We can ask Python whether or not a container contains a particular item."
   ]
  },
  {
   "cell_type": "code",
   "execution_count": 131,
   "metadata": {},
   "outputs": [
    {
     "data": {
      "text/plain": [
       "True"
      ]
     },
     "execution_count": 131,
     "metadata": {},
     "output_type": "execute_result"
    }
   ],
   "source": [
    "\"Dog\" in [\"Cat\", \"Dog\", \"Horse\"]"
   ]
  },
  {
   "cell_type": "code",
   "execution_count": 132,
   "metadata": {},
   "outputs": [
    {
     "data": {
      "text/plain": [
       "False"
      ]
     },
     "execution_count": 132,
     "metadata": {},
     "output_type": "execute_result"
    }
   ],
   "source": [
    "6 in range(5)"
   ]
  },
  {
   "cell_type": "markdown",
   "metadata": {},
   "source": [
    "### Mutability\n",
    "\n",
    "A list can be modified."
   ]
  },
  {
   "cell_type": "code",
   "execution_count": 133,
   "metadata": {},
   "outputs": [
    {
     "name": "stdout",
     "output_type": "stream",
     "text": [
      "['James', 'Philip', 'John', 'Hetherington']\n"
     ]
    }
   ],
   "source": [
    "name = \"James Philip John Hetherington\".split(\" \")\n",
    "print(name)"
   ]
  },
  {
   "cell_type": "markdown",
   "metadata": {},
   "source": [
    "### Tuples\n",
    "\n",
    "A ```tuple``` is an immutable sequence. It is like a list but cannot be changed. It is defined with round brackets."
   ]
  },
  {
   "cell_type": "code",
   "execution_count": 134,
   "metadata": {},
   "outputs": [
    {
     "name": "stdout",
     "output_type": "stream",
     "text": [
      "<class 'tuple'>\n"
     ]
    }
   ],
   "source": [
    "x = (0,)\n",
    "print(type(x))"
   ]
  },
  {
   "cell_type": "code",
   "execution_count": 135,
   "metadata": {},
   "outputs": [
    {
     "name": "stdout",
     "output_type": "stream",
     "text": [
      "<class 'tuple'>\n"
     ]
    }
   ],
   "source": [
    "my_tuple = (\"Hello\", \"World\")\n",
    "print(type(my_tuple))\n",
    "# my_tuple[0] = \"Goodbye\"\n",
    "# TypeError: 'tuple' object does not support item assignment"
   ]
  },
  {
   "cell_type": "markdown",
   "metadata": {},
   "source": [
    "```str``` is also immutable.\n",
    "\n",
    "But container reassignment is moving a label, not changing an element."
   ]
  },
  {
   "cell_type": "code",
   "execution_count": 136,
   "metadata": {},
   "outputs": [],
   "source": [
    "fish = \"Hake\"\n",
    "# fish[0] = \"R\" generates a TypeError\n",
    "fish = \"Rake\" # is okay"
   ]
  },
  {
   "cell_type": "markdown",
   "metadata": {},
   "source": [
    "### Memory and containers\n",
    "\n",
    "While ```y``` is a second label on the same object, ```z``` is a separate object with the same data.\n",
    "\n",
    "Writing ```x[:]``` creates a new list containing all the elements of ```x``` (equivalent to ```[0:<last>]```).\n",
    "\n",
    "The difference between ```y=x``` and ```z=x[:]``` is very important."
   ]
  },
  {
   "cell_type": "code",
   "execution_count": 137,
   "metadata": {},
   "outputs": [
    {
     "name": "stdout",
     "output_type": "stream",
     "text": [
      "[0, 1, 2]\n",
      "[0, 1, 2]\n",
      "[0, 'Gotcha!', 2]\n",
      "[0, 'Gotcha!', 2]\n",
      "[0, 'Really?', 2]\n",
      "[0, 'Gotcha!', 2]\n"
     ]
    }
   ],
   "source": [
    "x = list(range(3))\n",
    "print(x)\n",
    "\n",
    "y = x\n",
    "print(y)\n",
    "\n",
    "y[1] = \"Gotcha!\"\n",
    "print(y)\n",
    "print(x)\n",
    "\n",
    "z = x[0:3]\n",
    "z[1] = \"Really?\"\n",
    "print(z)\n",
    "print(x)"
   ]
  },
  {
   "cell_type": "markdown",
   "metadata": {},
   "source": [
    "### Identity vs Equality \n",
    "\n",
    "Having the same data is different from being the same actual object in memory."
   ]
  },
  {
   "cell_type": "code",
   "execution_count": 138,
   "metadata": {},
   "outputs": [
    {
     "data": {
      "text/plain": [
       "True"
      ]
     },
     "execution_count": 138,
     "metadata": {},
     "output_type": "execute_result"
    }
   ],
   "source": [
    "[1, 2] == [1, 2]"
   ]
  },
  {
   "cell_type": "code",
   "execution_count": 139,
   "metadata": {},
   "outputs": [
    {
     "data": {
      "text/plain": [
       "False"
      ]
     },
     "execution_count": 139,
     "metadata": {},
     "output_type": "execute_result"
    }
   ],
   "source": [
    "[1,2] is [1,2]"
   ]
  },
  {
   "cell_type": "markdown",
   "metadata": {},
   "source": [
    "```==``` operator checks, element by element, that two containers have the same data. The ```is``` operator checks that they are actually the same object.\n",
    "\n",
    "Howver, for immutables, Python saves memory by reusing a single copy."
   ]
  },
  {
   "cell_type": "code",
   "execution_count": 142,
   "metadata": {},
   "outputs": [
    {
     "data": {
      "text/plain": [
       "True"
      ]
     },
     "execution_count": 142,
     "metadata": {},
     "output_type": "execute_result"
    }
   ],
   "source": [
    "\"Hello\" == \"Hello\"\n"
   ]
  },
  {
   "cell_type": "code",
   "execution_count": 143,
   "metadata": {},
   "outputs": [
    {
     "name": "stderr",
     "output_type": "stream",
     "text": [
      "<>:1: SyntaxWarning: \"is\" with a literal. Did you mean \"==\"?\n",
      "<>:1: SyntaxWarning: \"is\" with a literal. Did you mean \"==\"?\n",
      "/var/folders/vt/cnvcr__n5pn60jkl8nh7fzrw0000gn/T/ipykernel_13001/3904443404.py:1: SyntaxWarning: \"is\" with a literal. Did you mean \"==\"?\n",
      "  \"Hello\" is \"Hello\"\n"
     ]
    },
    {
     "data": {
      "text/plain": [
       "True"
      ]
     },
     "execution_count": 143,
     "metadata": {},
     "output_type": "execute_result"
    }
   ],
   "source": [
    "\"Hello\" is \"Hello\""
   ]
  },
  {
   "cell_type": "markdown",
   "metadata": {},
   "source": [
    "## Dictionaries\n",
    "\n",
    "Python supports a container type called a dictionary.\n",
    "\n",
    "In a list, we used a number to select an element."
   ]
  },
  {
   "cell_type": "code",
   "execution_count": 144,
   "metadata": {},
   "outputs": [
    {
     "data": {
      "text/plain": [
       "'Luther'"
      ]
     },
     "execution_count": 144,
     "metadata": {},
     "output_type": "execute_result"
    }
   ],
   "source": [
    "names = \"Martin Luther King\".split(\" \")\n",
    "names[1]"
   ]
  },
  {
   "cell_type": "markdown",
   "metadata": {},
   "source": [
    "In a dictionary, we look up an element using **another object of our choice**. "
   ]
  },
  {
   "cell_type": "code",
   "execution_count": 145,
   "metadata": {},
   "outputs": [
    {
     "data": {
      "text/plain": [
       "{'name': 'James', 'age': 39, 'Jobs': ['Programmer', 'Teacher']}"
      ]
     },
     "execution_count": 145,
     "metadata": {},
     "output_type": "execute_result"
    }
   ],
   "source": [
    "me = {\"name\": \"James\", \"age\": 39, \"Jobs\": [\"Programmer\", \"Teacher\"]}\n",
    "me"
   ]
  },
  {
   "cell_type": "code",
   "execution_count": 146,
   "metadata": {},
   "outputs": [
    {
     "data": {
      "text/plain": [
       "['Programmer', 'Teacher']"
      ]
     },
     "execution_count": 146,
     "metadata": {},
     "output_type": "execute_result"
    }
   ],
   "source": [
    "me[\"Jobs\"]"
   ]
  },
  {
   "cell_type": "code",
   "execution_count": 147,
   "metadata": {},
   "outputs": [
    {
     "data": {
      "text/plain": [
       "dict"
      ]
     },
     "execution_count": 147,
     "metadata": {},
     "output_type": "execute_result"
    }
   ],
   "source": [
    "type(me)"
   ]
  },
  {
   "cell_type": "markdown",
   "metadata": {},
   "source": [
    "### Keys and values\n",
    "\n",
    "The things we use to look up are called **keys**.\n",
    "\n",
    "The things we look up are called **values**."
   ]
  },
  {
   "cell_type": "code",
   "execution_count": 148,
   "metadata": {},
   "outputs": [
    {
     "data": {
      "text/plain": [
       "dict_keys(['name', 'age', 'Jobs'])"
      ]
     },
     "execution_count": 148,
     "metadata": {},
     "output_type": "execute_result"
    }
   ],
   "source": [
    "me.keys()"
   ]
  },
  {
   "cell_type": "code",
   "execution_count": 149,
   "metadata": {},
   "outputs": [
    {
     "data": {
      "text/plain": [
       "dict_values(['James', 39, ['Programmer', 'Teacher']])"
      ]
     },
     "execution_count": 149,
     "metadata": {},
     "output_type": "execute_result"
    }
   ],
   "source": [
    "me.values()"
   ]
  },
  {
   "cell_type": "markdown",
   "metadata": {},
   "source": [
    "When we test for containment on a ```dict```, we are actually testing on the keys."
   ]
  },
  {
   "cell_type": "code",
   "execution_count": 150,
   "metadata": {},
   "outputs": [
    {
     "data": {
      "text/plain": [
       "True"
      ]
     },
     "execution_count": 150,
     "metadata": {},
     "output_type": "execute_result"
    }
   ],
   "source": [
    "\"Jobs\" in me"
   ]
  },
  {
   "cell_type": "code",
   "execution_count": 151,
   "metadata": {},
   "outputs": [
    {
     "data": {
      "text/plain": [
       "False"
      ]
     },
     "execution_count": 151,
     "metadata": {},
     "output_type": "execute_result"
    }
   ],
   "source": [
    "\"James\" in me"
   ]
  },
  {
   "cell_type": "code",
   "execution_count": 153,
   "metadata": {},
   "outputs": [
    {
     "data": {
      "text/plain": [
       "True"
      ]
     },
     "execution_count": 153,
     "metadata": {},
     "output_type": "execute_result"
    }
   ],
   "source": [
    "\"James\" in me.values()"
   ]
  },
  {
   "cell_type": "markdown",
   "metadata": {},
   "source": [
    "### Immutable Keys Only\n",
    "\n",
    "The ''hash table''. You can use immutable things as keys:"
   ]
  },
  {
   "cell_type": "code",
   "execution_count": 154,
   "metadata": {},
   "outputs": [],
   "source": [
    "good_match = {\n",
    "    (\"Lamb\", \"Mint\"): True,\n",
    "    (\"Bacon\", \"Chocolate\"): False\n",
    "}\n",
    "\n",
    "# illegal = {\n",
    "#     [\"Lamb\", \"Mint\"]: True,\n",
    "#     [\"Bacon\", \"Chocolate\"]: False\n",
    "# }\n",
    "# TypeError: unhashable type: 'list'\n"
   ]
  },
  {
   "cell_type": "markdown",
   "metadata": {},
   "source": [
    "### No guarantee of order\n",
    "\n",
    "There is no guaranteed order among the elements in dicts.\n",
    "\n",
    "NB: Isn't there one in the example?"
   ]
  },
  {
   "cell_type": "code",
   "execution_count": 155,
   "metadata": {},
   "outputs": [
    {
     "name": "stdout",
     "output_type": "stream",
     "text": [
      "{'0': 0, '1': 1, '2': 2, '3': 3}\n",
      "dict_values([0, 1, 2, 3])\n"
     ]
    }
   ],
   "source": [
    "my_dict = {\"0\": 0, \"1\": 1, \"2\": 2, \"3\": 3}\n",
    "print(my_dict)\n",
    "print(my_dict.values())"
   ]
  },
  {
   "cell_type": "markdown",
   "metadata": {},
   "source": [
    "### Sets\n",
    "\n",
    "A set is a ```list``` which cannot contain the same element twice.\n",
    "\n",
    "We make one by calling ```set()``` on any sequence (list or string)."
   ]
  },
  {
   "cell_type": "code",
   "execution_count": 157,
   "metadata": {},
   "outputs": [
    {
     "name": "stdout",
     "output_type": "stream",
     "text": [
      "{'m', 's', 'a', ' ', 'r', 't', 'J', 'e', 'h', 'H'}\n",
      "<class 'set'>\n"
     ]
    }
   ],
   "source": [
    "name = \"James Hether\"\n",
    "unique_letters = set(name)\n",
    "print(unique_letters)\n",
    "print(type(unique_letters))"
   ]
  },
  {
   "cell_type": "markdown",
   "metadata": {},
   "source": [
    "A set has no particular order, but can be useful for checking or storing unique values.\n",
    "\n",
    "Set operations work as in mathematics."
   ]
  },
  {
   "cell_type": "code",
   "execution_count": 158,
   "metadata": {},
   "outputs": [
    {
     "data": {
      "text/plain": [
       "{'e', 'o'}"
      ]
     },
     "execution_count": 158,
     "metadata": {},
     "output_type": "execute_result"
    }
   ],
   "source": [
    "x = set(\"Hello\")\n",
    "y = set(\"Goodbye\")\n",
    "\n",
    "x & y # intersection"
   ]
  },
  {
   "cell_type": "code",
   "execution_count": 159,
   "metadata": {},
   "outputs": [
    {
     "data": {
      "text/plain": [
       "{'G', 'H', 'b', 'd', 'e', 'l', 'o', 'y'}"
      ]
     },
     "execution_count": 159,
     "metadata": {},
     "output_type": "execute_result"
    }
   ],
   "source": [
    "x | y # Union"
   ]
  },
  {
   "cell_type": "code",
   "execution_count": 160,
   "metadata": {},
   "outputs": [
    {
     "data": {
      "text/plain": [
       "{'G', 'b', 'd', 'y'}"
      ]
     },
     "execution_count": 160,
     "metadata": {},
     "output_type": "execute_result"
    }
   ],
   "source": [
    "y - x # y intersection with complement of x\n",
    "# Letters in Goodbye but not in Hello"
   ]
  },
  {
   "cell_type": "markdown",
   "metadata": {},
   "source": [
    "## Data structures"
   ]
  },
  {
   "cell_type": "markdown",
   "metadata": {},
   "source": [
    "### Nested Lists and Dictionaries\n",
    "\n",
    "In research programming, one common task is building a structure to model our complicated data.\n",
    "\n",
    "We will see later how to define our own types with attributes, properties and methods.\n",
    "\n",
    "For now, use nested structures of lists, dictionaries and sets to model our data."
   ]
  },
  {
   "cell_type": "markdown",
   "metadata": {},
   "source": [
    "First, an address might be a dictionary with named fields:"
   ]
  },
  {
   "cell_type": "code",
   "execution_count": 162,
   "metadata": {},
   "outputs": [
    {
     "name": "stdout",
     "output_type": "stream",
     "text": [
      "[{'City': 'London', 'Street': 'Gower Street', 'Postcode': 'WC1E 6BT'}, {'City': 'London', 'Street': 'Waterson Street', 'Postcode': 'E2 8HH'}]\n"
     ]
    }
   ],
   "source": [
    "UCL = {\"City\": \"London\", \"Street\": \"Gower Street\", \"Postcode\": \"WC1E 6BT\"}\n",
    "\n",
    "James = {\"City\": \"London\", \"Street\": \"Waterson Street\", \"Postcode\": \"E2 8HH\"}\n",
    "\n",
    "addresses = [UCL, James]\n",
    "print(addresses)"
   ]
  },
  {
   "cell_type": "markdown",
   "metadata": {},
   "source": [
    "### Exercise: a Maze Model\n",
    "\n",
    "Design a data structure to represent a maze using dictionaries and lists.\n",
    "* Each place in the maze has a name (str)\n",
    "* Each place has some people on it, by name\n",
    "* Each place has a maximum capacity of people\n",
    "* Each place has a few directions available from that place: 'up', 'north'...\n",
    "\n",
    "Create an example instance, in a notebook, of a simple structure for your maze:\n",
    "\n",
    "* The front room can hold 2 people. James is currently there. You can go outside to the garden, or upstairs to the bedroom, or north to the kitchen.\n",
    "* From the kitchen, you can go south to the front room. It fits 1 person.\n",
    "* From the garden you can go inside to front room. It fits 3 people. Sue is currently there.\n",
    "* From the bedroom, you can go downstairs to the front room. You can also jump out of the window to the garden. It fits 2 people.\n",
    "\n",
    "Make sure that your model:\n",
    "\n",
    "* Allows empty rooms\n",
    "* Allows you to jump out of the upstairs window, but not to fly back up.\n",
    "* Allows rooms which people can’t fit in."
   ]
  },
  {
   "cell_type": "code",
   "execution_count": 163,
   "metadata": {},
   "outputs": [],
   "source": [
    "# Lists of rooms \n",
    "# Each room is a dictionary, and they share keys\n",
    "\n",
    "front = {\n",
    "    \"Name\": \"Front Room\",\n",
    "    \"People\": [\"James\"],\n",
    "    \"Directions\": [\"Garden\", \"Bedroom\", \"Kitchen\"],\n",
    "    \"Capacity\": 2\n",
    "}\n",
    "\n",
    "kitchen = {\n",
    "    \"Name\": \"Kitchen\",\n",
    "    \"People\": [],\n",
    "    \"Directions\": [\"Front Room\"],\n",
    "    \"Capacity\": 1\n",
    "}\n",
    "\n",
    "garden = {\n",
    "    \"Name\": \"Garden\",\n",
    "    \"People\": [\"Sue\"],\n",
    "    \"Directions\": [\"Front Room\"],\n",
    "    \"Capacity\": 3\n",
    "}\n",
    "\n",
    "bedroom = {\n",
    "    \"Name\": \"Bedroom\",\n",
    "    \"People\": [],\n",
    "    \"Directions\": [\"Front Room\", \"Garden\"],\n",
    "    \"Capacity\": 2\n",
    "\n",
    "}\n",
    "\n",
    "house = [front, kitchen, garden, bedroom]\n"
   ]
  },
  {
   "cell_type": "markdown",
   "metadata": {},
   "source": [
    "## Solution: my Maze Model"
   ]
  },
  {
   "cell_type": "markdown",
   "metadata": {},
   "source": [
    "Many possible solutions but some highlights:\n",
    "* the solution is a complete nested structure\n",
    "* There is an empty person list in empty rooms, so the type structure is robust to potential people movements\n",
    "* The solution did not use name\n",
    "* The solution specified \n",
    "``` \"exits\": {\"downstairs\": \"living\", \"jump\": \"garden\"} ```"
   ]
  },
  {
   "cell_type": "markdown",
   "metadata": {},
   "source": [
    "## Control and Flow"
   ]
  },
  {
   "cell_type": "markdown",
   "metadata": {},
   "source": [
    "### Turing completeness\n",
    "\n",
    "We need to be able to have **conditionality**: controling whether a program statement should be executed or not.\n",
    "\n",
    "We also need **branching**: going back to an earlier point of the program and run some statements again.\n",
    "\n",
    "Once we have these, we can write programs to process information in arbitrary ways and be Turing Complete."
   ]
  },
  {
   "cell_type": "markdown",
   "metadata": {},
   "source": [
    "### Conditionality\n",
    "\n",
    "With ```if```. **Controlled** statements are indented."
   ]
  },
  {
   "cell_type": "code",
   "execution_count": 164,
   "metadata": {},
   "outputs": [
    {
     "name": "stdout",
     "output_type": "stream",
     "text": [
      "-10  is negative\n"
     ]
    }
   ],
   "source": [
    "x = -10\n",
    "\n",
    "if x < 0:\n",
    "    print(x, \" is negative\")"
   ]
  },
  {
   "cell_type": "markdown",
   "metadata": {},
   "source": [
    "### Else and Elif\n",
    "\n",
    "Python's if statement has optional elif (else-if) and else clauses."
   ]
  },
  {
   "cell_type": "code",
   "execution_count": 165,
   "metadata": {},
   "outputs": [
    {
     "name": "stdout",
     "output_type": "stream",
     "text": [
      "x is positive\n"
     ]
    }
   ],
   "source": [
    "x = 5\n",
    "if x < 0:\n",
    "    print(\"x is negative\")\n",
    "elif x == 0:\n",
    "    print(\"x is zero\")\n",
    "else:\n",
    "    print(\"x is positive\")"
   ]
  },
  {
   "cell_type": "markdown",
   "metadata": {},
   "source": [
    "### Comparison\n",
    "\n",
    "```True``` and ```False``` are used to represent **boolean** values."
   ]
  },
  {
   "cell_type": "code",
   "execution_count": 166,
   "metadata": {},
   "outputs": [
    {
     "data": {
      "text/plain": [
       "False"
      ]
     },
     "execution_count": 166,
     "metadata": {},
     "output_type": "execute_result"
    }
   ],
   "source": [
    "1 > 2"
   ]
  },
  {
   "cell_type": "markdown",
   "metadata": {},
   "source": [
    "Comparison on strings is alphabetical, but case sensitive."
   ]
  },
  {
   "cell_type": "code",
   "execution_count": 167,
   "metadata": {},
   "outputs": [
    {
     "data": {
      "text/plain": [
       "True"
      ]
     },
     "execution_count": 167,
     "metadata": {},
     "output_type": "execute_result"
    }
   ],
   "source": [
    "\"UCL\" > \"KCL\""
   ]
  },
  {
   "cell_type": "code",
   "execution_count": 169,
   "metadata": {},
   "outputs": [
    {
     "data": {
      "text/plain": [
       "False"
      ]
     },
     "execution_count": 169,
     "metadata": {},
     "output_type": "execute_result"
    }
   ],
   "source": [
    "\"UCL\" > \"kcl\""
   ]
  },
  {
   "cell_type": "markdown",
   "metadata": {},
   "source": [
    "There is no automatic conversion of the string ```True``` to true:"
   ]
  },
  {
   "cell_type": "code",
   "execution_count": 170,
   "metadata": {},
   "outputs": [
    {
     "data": {
      "text/plain": [
       "False"
      ]
     },
     "execution_count": 170,
     "metadata": {},
     "output_type": "execute_result"
    }
   ],
   "source": [
    "True == \"True\""
   ]
  },
  {
   "cell_type": "markdown",
   "metadata": {},
   "source": [
    "A statement that evaluates to ```True``` or ```False``` can be used to control an ```if``` statement."
   ]
  },
  {
   "cell_type": "markdown",
   "metadata": {},
   "source": [
    "### Automatic Falsehood\n",
    "\n",
    "Various things automatically count as true or false."
   ]
  },
  {
   "cell_type": "code",
   "execution_count": 172,
   "metadata": {},
   "outputs": [
    {
     "name": "stdout",
     "output_type": "stream",
     "text": [
      "Mytext is not empty\n"
     ]
    }
   ],
   "source": [
    "mytext = \"Hello\"\n",
    "if mytext:\n",
    "    print(\"Mytext is not empty\")\n",
    "\n",
    "mytext = \"\"\n",
    "if mytext:\n",
    "    print(\"Mytext is not empty 2\")"
   ]
  },
  {
   "cell_type": "markdown",
   "metadata": {},
   "source": [
    "We can use the logical ```not``` and ```and``` to combine true and false."
   ]
  },
  {
   "cell_type": "code",
   "execution_count": 173,
   "metadata": {},
   "outputs": [
    {
     "name": "stdout",
     "output_type": "stream",
     "text": [
      "3.2 is not a positive integer\n"
     ]
    }
   ],
   "source": [
    "x = 3.2\n",
    "if not (x > 0 and type(x) == int):\n",
    "    print(x, \"is not a positive integer\")"
   ]
  },
  {
   "cell_type": "code",
   "execution_count": 174,
   "metadata": {},
   "outputs": [
    {
     "data": {
      "text/plain": [
       "True"
      ]
     },
     "execution_count": 174,
     "metadata": {},
     "output_type": "execute_result"
    }
   ],
   "source": [
    "not not \"Who's there!\""
   ]
  },
  {
   "cell_type": "code",
   "execution_count": 175,
   "metadata": {},
   "outputs": [
    {
     "data": {
      "text/plain": [
       "False"
      ]
     },
     "execution_count": 175,
     "metadata": {},
     "output_type": "execute_result"
    }
   ],
   "source": [
    "bool([])"
   ]
  },
  {
   "cell_type": "code",
   "execution_count": 176,
   "metadata": {},
   "outputs": [
    {
     "data": {
      "text/plain": [
       "False"
      ]
     },
     "execution_count": 176,
     "metadata": {},
     "output_type": "execute_result"
    }
   ],
   "source": [
    "bool(\"\")"
   ]
  },
  {
   "cell_type": "code",
   "execution_count": 177,
   "metadata": {},
   "outputs": [
    {
     "data": {
      "text/plain": [
       "True"
      ]
     },
     "execution_count": 177,
     "metadata": {},
     "output_type": "execute_result"
    }
   ],
   "source": [
    "bool([1])"
   ]
  },
  {
   "cell_type": "markdown",
   "metadata": {},
   "source": [
    "Subtly, although these quantities evaluate True or False in an if statement, they are not actually True or False under ```==```."
   ]
  },
  {
   "cell_type": "code",
   "execution_count": 178,
   "metadata": {},
   "outputs": [
    {
     "data": {
      "text/plain": [
       "False"
      ]
     },
     "execution_count": 178,
     "metadata": {},
     "output_type": "execute_result"
    }
   ],
   "source": [
    "[] == False"
   ]
  },
  {
   "cell_type": "markdown",
   "metadata": {},
   "source": [
    "### Indentation\n",
    "\n",
    "In Python, indentation is semanrically significant."
   ]
  },
  {
   "cell_type": "markdown",
   "metadata": {},
   "source": [
    "### Pass\n",
    "\n",
    "The ```pass``` statement is used to do nothing."
   ]
  },
  {
   "cell_type": "markdown",
   "metadata": {},
   "source": [
    "## Iteration\n",
    "\n",
    "We use ```for``` ... ```in``` to \"iterate\" over lists."
   ]
  },
  {
   "cell_type": "code",
   "execution_count": 180,
   "metadata": {},
   "outputs": [
    {
     "name": "stdout",
     "output_type": "stream",
     "text": [
      "1\n",
      "9\n",
      "49\n",
      "4\n"
     ]
    }
   ],
   "source": [
    "mylist = [1, 3, 7, 2]\n",
    "for item in mylist:\n",
    "    print(item ** 2)"
   ]
  },
  {
   "cell_type": "markdown",
   "metadata": {},
   "source": [
    "### Iterables\n",
    "\n",
    "Any sequence type is iterable.\n",
    "\n",
    "### Dictionaries and iterables\n",
    "\n",
    "Some iterables (things you can ```for``` loop on) are not sequences (things you can do ```x[5]``` on). For example: sets and dictionaries."
   ]
  },
  {
   "cell_type": "code",
   "execution_count": 181,
   "metadata": {},
   "outputs": [
    {
     "name": "stdout",
     "output_type": "stream",
     "text": [
      "James is 46 years old.\n",
      "UCL is 196 years old.\n",
      "Cambridge is 813 years old.\n"
     ]
    }
   ],
   "source": [
    "import datetime\n",
    "now = datetime.datetime.now()\n",
    "founded = {\n",
    "    \"James\": 1976,\n",
    "    \"UCL\": 1826,\n",
    "    \"Cambridge\": 1209\n",
    "}\n",
    "\n",
    "current_year = now.year \n",
    "for thing in founded:\n",
    "    print(thing, \"is\", current_year - founded[thing], \"years old.\")"
   ]
  },
  {
   "cell_type": "markdown",
   "metadata": {},
   "source": [
    "### Unpacking and Iteration\n",
    "\n",
    "Unpacking can be useful with iteration."
   ]
  },
  {
   "cell_type": "code",
   "execution_count": 182,
   "metadata": {},
   "outputs": [
    {
     "name": "stdout",
     "output_type": "stream",
     "text": [
      "[4, 11, 15]\n",
      "[39, 4, 18]\n"
     ]
    }
   ],
   "source": [
    "triples = [[4,11,15],[39,4,18]]\n",
    "for item in triples:\n",
    "    print(item)"
   ]
  },
  {
   "cell_type": "markdown",
   "metadata": {},
   "source": [
    "### Break, continue\n",
    "\n",
    "```continue``` skips to the next turn of a loop.\n",
    "```break``` stop the loop early."
   ]
  },
  {
   "cell_type": "markdown",
   "metadata": {},
   "source": [
    "Exercise: the Maze Population\n",
    "Take your maze data structure. Write a program to count the total number of people in the maze, and also determine the total possible occupants.\n",
    "\n",
    "\n"
   ]
  },
  {
   "cell_type": "code",
   "execution_count": 184,
   "metadata": {},
   "outputs": [
    {
     "name": "stdout",
     "output_type": "stream",
     "text": [
      "[7, 2]\n"
     ]
    }
   ],
   "source": [
    "front = {\n",
    "    \"People\": [\"James\"],\n",
    "    \"Capacity\": 2\n",
    "}\n",
    "kitchen = {\n",
    "    \"People\": [],\n",
    "    \"Capacity\": 1\n",
    "}\n",
    "garden = {\n",
    "    \"People\": [\"Sue\"],\n",
    "    \"Capacity\": 3\n",
    "}\n",
    "bedroom = {\n",
    "    \"People\": [],\n",
    "    \"Capacity\": 1\n",
    "}\n",
    "house = [front, kitchen, garden, bedroom]\n",
    "\n",
    "\n",
    "possible_occupants = 0\n",
    "current_occupants = 0\n",
    "\n",
    "for item in house:\n",
    "    possible_occupants += item[\"Capacity\"]\n",
    "    if item[\"People\"]:\n",
    "        current_occupants += len(item[\"People\"])\n",
    "\n",
    "print([possible_occupants, current_occupants])\n"
   ]
  },
  {
   "cell_type": "markdown",
   "metadata": {},
   "source": [
    "## Solution: counting people in the maze"
   ]
  },
  {
   "cell_type": "code",
   "execution_count": 186,
   "metadata": {},
   "outputs": [
    {
     "name": "stdout",
     "output_type": "stream",
     "text": [
      "House can fit 7 people, and currently has: 2.\n"
     ]
    }
   ],
   "source": [
    "# Very good. Here was the solution.\n",
    "\n",
    "house = {\n",
    "    \"living\": {\n",
    "        \"exits\": {\"north\": \"kitchen\", \"outside\": \"garden\", \"upstairs\": \"bedroom\"},\n",
    "        \"people\": [\"James\"],\n",
    "        \"capacity\": 2,\n",
    "    },\n",
    "    \"kitchen\": {\"exits\": {\"south\": \"living\"}, \"people\": [], \"capacity\": 1},\n",
    "    \"garden\": {\"exits\": {\"inside\": \"living\"}, \"people\": [\"Sue\"], \"capacity\": 3},\n",
    "    \"bedroom\": {\n",
    "        \"exits\": {\"downstairs\": \"living\", \"jump\": \"garden\"},\n",
    "        \"people\": [],\n",
    "        \"capacity\": 1,\n",
    "    },\n",
    "}\n",
    "\n",
    "capacity = 0\n",
    "occupancy = 0\n",
    "for name, room in house.items():\n",
    "    capacity += room[\"capacity\"]\n",
    "    occupancy += len(room[\"people\"])\n",
    "print(\"House can fit {} people, and currently has: {}.\".format(capacity, occupancy))\n"
   ]
  }
 ],
 "metadata": {
  "interpreter": {
   "hash": "aee8b7b246df8f9039afb4144a1f6fd8d2ca17a180786b69acc140d282b71a49"
  },
  "kernelspec": {
   "display_name": "Python 3.9.6 64-bit",
   "language": "python",
   "name": "python3"
  },
  "language_info": {
   "codemirror_mode": {
    "name": "ipython",
    "version": 3
   },
   "file_extension": ".py",
   "mimetype": "text/x-python",
   "name": "python",
   "nbconvert_exporter": "python",
   "pygments_lexer": "ipython3",
   "version": "3.9.6"
  },
  "orig_nbformat": 4
 },
 "nbformat": 4,
 "nbformat_minor": 2
}
