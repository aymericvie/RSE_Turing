{
 "cells": [
  {
   "cell_type": "markdown",
   "metadata": {},
   "source": [
    "# 1. Introduction to Python"
   ]
  },
  {
   "cell_type": "markdown",
   "metadata": {},
   "source": [
    "Jupyter notebooks consist of markdown cells and code cells. In markdown, we can write in **bold** and *italic* or also:\n",
    "> Quote."
   ]
  },
  {
   "cell_type": "markdown",
   "metadata": {},
   "source": [
    "Shortcuts:\n",
    "* b to create a new code block below the cursor\n",
    "* m to turn a code block into markdown block"
   ]
  },
  {
   "cell_type": "markdown",
   "metadata": {},
   "source": [
    "Libraries, comments, functions, variables, plotting graphs."
   ]
  },
  {
   "cell_type": "markdown",
   "metadata": {},
   "source": [
    "## Variables\n",
    "\n",
    "### Variables assignment\n",
    "\n",
    "Generating a result displays it, but it is not kept anywhere. To store a result, we use a variable."
   ]
  },
  {
   "cell_type": "code",
   "execution_count": 70,
   "metadata": {},
   "outputs": [
    {
     "name": "stdout",
     "output_type": "stream",
     "text": [
      "6\n"
     ]
    }
   ],
   "source": [
    "six = 2 * 3\n",
    "print(six)"
   ]
  },
  {
   "cell_type": "markdown",
   "metadata": {},
   "source": [
    "If we **reassign** the variable, the data that was there before has been lost."
   ]
  },
  {
   "cell_type": "code",
   "execution_count": 71,
   "metadata": {},
   "outputs": [
    {
     "name": "stdout",
     "output_type": "stream",
     "text": [
      "36\n"
     ]
    }
   ],
   "source": [
    "six = six * six\n",
    "print(six)"
   ]
  },
  {
   "cell_type": "markdown",
   "metadata": {},
   "source": [
    "In fact, it is the **label** that was moved. Let us check it when we have more than one label refering to the same box:"
   ]
  },
  {
   "cell_type": "code",
   "execution_count": 72,
   "metadata": {},
   "outputs": [
    {
     "name": "stdout",
     "output_type": "stream",
     "text": [
      "James\n",
      "James\n"
     ]
    }
   ],
   "source": [
    "name = \"James\"\n",
    "nom = name\n",
    "print(nom)\n",
    "print(name)"
   ]
  },
  {
   "cell_type": "code",
   "execution_count": 73,
   "metadata": {},
   "outputs": [
    {
     "name": "stdout",
     "output_type": "stream",
     "text": [
      "James\n",
      "Heterington\n"
     ]
    }
   ],
   "source": [
    "nom = \"Heterington\"\n",
    "print(name)\n",
    "print(nom)"
   ]
  },
  {
   "cell_type": "markdown",
   "metadata": {},
   "source": [
    "Each box is a piece of space in computer memory. Each label (variable) is a refernece to such a place. If there are no labels on a box, the data in the box cannot be found anymore, making the space available for more data."
   ]
  },
  {
   "cell_type": "code",
   "execution_count": 74,
   "metadata": {},
   "outputs": [],
   "source": [
    "name = \"Jim\""
   ]
  },
  {
   "cell_type": "markdown",
   "metadata": {},
   "source": [
    "When writing this:\n",
    "* A new text **object** is created and a memory address found for it\n",
    "* Variable \"name\" is moved to refer to that address\n",
    "* The old address containing \"James\" now has no labels\n",
    "* The garbage collector frees the memory at the old address"
   ]
  },
  {
   "cell_type": "markdown",
   "metadata": {},
   "source": [
    "### Objects and types\n",
    "\n",
    "Objects have types. For example:"
   ]
  },
  {
   "cell_type": "code",
   "execution_count": 75,
   "metadata": {},
   "outputs": [
    {
     "data": {
      "text/plain": [
       "str"
      ]
     },
     "execution_count": 75,
     "metadata": {},
     "output_type": "execute_result"
    }
   ],
   "source": [
    "type(name)"
   ]
  },
  {
   "cell_type": "markdown",
   "metadata": {},
   "source": [
    "Depending on its type, an object can have different *properties*: data fields inside the object."
   ]
  },
  {
   "cell_type": "code",
   "execution_count": 76,
   "metadata": {},
   "outputs": [
    {
     "name": "stdout",
     "output_type": "stream",
     "text": [
      "['__abs__', '__add__', '__bool__', '__class__', '__delattr__', '__dir__', '__divmod__', '__doc__', '__eq__', '__float__', '__floordiv__', '__format__', '__ge__', '__getattribute__', '__getnewargs__', '__gt__', '__hash__', '__init__', '__init_subclass__', '__int__', '__le__', '__lt__', '__mod__', '__mul__', '__ne__', '__neg__', '__new__', '__pos__', '__pow__', '__radd__', '__rdivmod__', '__reduce__', '__reduce_ex__', '__repr__', '__rfloordiv__', '__rmod__', '__rmul__', '__rpow__', '__rsub__', '__rtruediv__', '__setattr__', '__sizeof__', '__str__', '__sub__', '__subclasshook__', '__truediv__', 'conjugate', 'imag', 'real']\n",
      "<class 'complex'>\n",
      "3.0\n",
      "1.0\n"
     ]
    }
   ],
   "source": [
    "z = 3+1j\n",
    "print(dir(z))\n",
    "\n",
    "print(type(z))\n",
    "print(z.real) \n",
    "print(z.imag)"
   ]
  },
  {
   "cell_type": "markdown",
   "metadata": {},
   "source": [
    "``dir`` shows the properties and methods an object has available. \n",
    "\n",
    "We access a property of an object with a dot, the dot operator. If the property does not exist, we get an error."
   ]
  },
  {
   "cell_type": "markdown",
   "metadata": {},
   "source": [
    "### Using Functions\n",
    "\n",
    "Objects come associated with a bunch of functions for working on objects of that type. They are accessed with a dot and are called **methods**."
   ]
  },
  {
   "cell_type": "code",
   "execution_count": 77,
   "metadata": {},
   "outputs": [
    {
     "data": {
      "text/plain": [
       "'SHOUT'"
      ]
     },
     "execution_count": 77,
     "metadata": {},
     "output_type": "execute_result"
    }
   ],
   "source": [
    "\"shout\".upper()"
   ]
  },
  {
   "cell_type": "code",
   "execution_count": 78,
   "metadata": {},
   "outputs": [
    {
     "name": "stdout",
     "output_type": "stream",
     "text": [
      "<class 'int'>\n"
     ]
    }
   ],
   "source": [
    "x = 5\n",
    "print(type(x))"
   ]
  },
  {
   "cell_type": "markdown",
   "metadata": {},
   "source": [
    "Using a method defined for a different type, or that does not exist, results in an error. \n",
    "\n",
    "Methods and properties are both kinds of **attributes**, both accessed by the dot operator. Objects can have both properties and methods:"
   ]
  },
  {
   "cell_type": "code",
   "execution_count": 79,
   "metadata": {},
   "outputs": [
    {
     "name": "stdout",
     "output_type": "stream",
     "text": [
      "1.0\n",
      "(1-5j)\n",
      "<built-in method conjugate of complex object at 0x7fedf8da3450>\n"
     ]
    }
   ],
   "source": [
    "z = 1+5j\n",
    "print(z.real)\n",
    "print(z.conjugate())\n",
    "print(z.conjugate)"
   ]
  },
  {
   "cell_type": "markdown",
   "metadata": {},
   "source": [
    "### Functions are just a type of object\n",
    "\n",
    "If we forget the ```()```, *a method is just a property which is a function*.\n",
    "\n",
    "Functions are just a kind of variable, and we can assign new labels to them."
   ]
  },
  {
   "cell_type": "code",
   "execution_count": 82,
   "metadata": {},
   "outputs": [
    {
     "name": "stdout",
     "output_type": "stream",
     "text": [
      "[1, 3, 4, 5]\n",
      "<class 'builtin_function_or_method'>\n",
      "[1, 3, 7, 9]\n"
     ]
    }
   ],
   "source": [
    "print(sorted([1, 5, 3, 4]))\n",
    "magic = sorted\n",
    "print(type(magic))\n",
    "print(magic([3, 7, 9, 1]))"
   ]
  },
  {
   "cell_type": "markdown",
   "metadata": {},
   "source": [
    "### Operators \n",
    "\n",
    "Opeators are +, -. Their meaning varies for different types."
   ]
  },
  {
   "cell_type": "code",
   "execution_count": 83,
   "metadata": {},
   "outputs": [
    {
     "name": "stdout",
     "output_type": "stream",
     "text": [
      "HelloHello\n",
      "5\n",
      "[2, 3, 4, 5, 6]\n"
     ]
    }
   ],
   "source": [
    "print(\"Hello\" + \"Hello\")\n",
    "print(2+3)\n",
    "print([2,3,4] + [5,6])"
   ]
  },
  {
   "cell_type": "markdown",
   "metadata": {},
   "source": [
    "We get errors if a type does not have an operator, or when two types cannot work together with an operator.\n",
    "\n",
    "The operand is the argument an operator operates on."
   ]
  },
  {
   "cell_type": "code",
   "execution_count": 84,
   "metadata": {},
   "outputs": [],
   "source": [
    "# [2,3,4] - [5,6]\n",
    "# TypeError: unsupported operand type(s) for -: 'list' and \n",
    "# 'list'\n",
    "\n",
    "# [2,3,4] + 5\n",
    "# TypeError: can only concatenate list (not \"int\") to list"
   ]
  },
  {
   "cell_type": "markdown",
   "metadata": {},
   "source": [
    "### Types\n",
    "\n",
    "Python has two core numeric types: ```int``` for integers and ```float``` for real numbers.\n",
    "\n",
    "A dot makes it a float, although zero after a point is optional."
   ]
  },
  {
   "cell_type": "code",
   "execution_count": 85,
   "metadata": {},
   "outputs": [
    {
     "name": "stdout",
     "output_type": "stream",
     "text": [
      "<class 'float'>\n"
     ]
    }
   ],
   "source": [
    "z = 1.\n",
    "print(type(z))"
   ]
  },
  {
   "cell_type": "markdown",
   "metadata": {},
   "source": []
  }
 ],
 "metadata": {
  "interpreter": {
   "hash": "aee8b7b246df8f9039afb4144a1f6fd8d2ca17a180786b69acc140d282b71a49"
  },
  "kernelspec": {
   "display_name": "Python 3.9.6 64-bit",
   "language": "python",
   "name": "python3"
  },
  "language_info": {
   "codemirror_mode": {
    "name": "ipython",
    "version": 3
   },
   "file_extension": ".py",
   "mimetype": "text/x-python",
   "name": "python",
   "nbconvert_exporter": "python",
   "pygments_lexer": "ipython3",
   "version": "3.9.6"
  },
  "orig_nbformat": 4
 },
 "nbformat": 4,
 "nbformat_minor": 2
}
