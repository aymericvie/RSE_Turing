{
 "cells": [
  {
   "cell_type": "markdown",
   "metadata": {},
   "source": [
    "# Construction and design\n",
    "\n",
    "https://alan-turing-institute.github.io/rse-course/html/module07_construction_and_design/index.html"
   ]
  }
 ],
 "metadata": {
  "kernelspec": {
   "display_name": "Python 3.9.6 64-bit",
   "language": "python",
   "name": "python3"
  },
  "language_info": {
   "name": "python",
   "version": "3.9.6"
  },
  "orig_nbformat": 4,
  "vscode": {
   "interpreter": {
    "hash": "dbe13e8ecf7f902daa0bac59e856e82ccef02589d1c9f5ba2af2c82aa720c033"
   }
  }
 },
 "nbformat": 4,
 "nbformat_minor": 2
}
