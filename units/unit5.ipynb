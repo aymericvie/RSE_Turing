{
 "cells": [
  {
   "cell_type": "markdown",
   "metadata": {},
   "source": [
    "# Testing\n",
    "\n",
    "https://alan-turing-institute.github.io/rse-course/html/module05_testing_your_code/index.html"
   ]
  },
  {
   "cell_type": "markdown",
   "metadata": {},
   "source": [
    "## Why test?\n",
    "\n",
    "A bit more code, a lot less debugging. Testing saves time, ensures code is correct, makes modification easier.\n",
    "Testing won't correct a buggy code, only will tell you where the bugs are IF the test cases cover the bugs.\n",
    "\n",
    "### Level of test\n",
    "\n",
    "Unit testing: smallest logical block of work (often < 10 lines of code)\n",
    "Component testing: several logical blocks of work together\n",
    "Integration testing:all components together / whole program\n",
    "\n",
    "Always start at the smallest scale!\n",
    "\n",
    "Branch coverage: in the example of an if-else statement in the code, is there a test for both cases?\n",
    "\n",
    "## Unit testing and regression testing\n",
    "\n",
    "## Negative testing\n",
    "\n",
    "## Mocking\n",
    "\n",
    "## Debugging\n",
    "\n",
    "## Continuous Integration\n",
    "\n",
    "Example: run tests after each commit to Github, on different platforms."
   ]
  }
 ],
 "metadata": {
  "kernelspec": {
   "display_name": "Python 3.9.6 64-bit",
   "language": "python",
   "name": "python3"
  },
  "language_info": {
   "name": "python",
   "version": "3.9.6"
  },
  "orig_nbformat": 4,
  "vscode": {
   "interpreter": {
    "hash": "dbe13e8ecf7f902daa0bac59e856e82ccef02589d1c9f5ba2af2c82aa720c033"
   }
  }
 },
 "nbformat": 4,
 "nbformat_minor": 2
}
