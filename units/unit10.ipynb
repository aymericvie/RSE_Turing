{
 "cells": [
  {
   "cell_type": "markdown",
   "metadata": {},
   "source": [
    "# Scientific file formats\n",
    "https://alan-turing-institute.github.io/rse-course/html/module10_scientific_file_formats/index.html\n",
    "\n",
    "Not so interesting for now."
   ]
  }
 ],
 "metadata": {
  "kernelspec": {
   "display_name": "Python 3.9.6 64-bit",
   "language": "python",
   "name": "python3"
  },
  "language_info": {
   "name": "python",
   "version": "3.9.6"
  },
  "orig_nbformat": 4,
  "vscode": {
   "interpreter": {
    "hash": "dbe13e8ecf7f902daa0bac59e856e82ccef02589d1c9f5ba2af2c82aa720c033"
   }
  }
 },
 "nbformat": 4,
 "nbformat_minor": 2
}
