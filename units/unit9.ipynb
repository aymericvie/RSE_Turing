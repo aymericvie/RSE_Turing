{
 "cells": [
  {
   "cell_type": "code",
   "execution_count": null,
   "metadata": {},
   "outputs": [],
   "source": [
    "# Programming for Speed\n",
    "\n",
    "https://alan-turing-institute.github.io/rse-course/html/module09_programming_for_speed/index.html\n",
    "\n"
   ]
  }
 ],
 "metadata": {
  "kernelspec": {
   "display_name": "Python 3.9.6 64-bit",
   "language": "python",
   "name": "python3"
  },
  "language_info": {
   "name": "python",
   "version": "3.9.6"
  },
  "orig_nbformat": 4,
  "vscode": {
   "interpreter": {
    "hash": "dbe13e8ecf7f902daa0bac59e856e82ccef02589d1c9f5ba2af2c82aa720c033"
   }
  }
 },
 "nbformat": 4,
 "nbformat_minor": 2
}
