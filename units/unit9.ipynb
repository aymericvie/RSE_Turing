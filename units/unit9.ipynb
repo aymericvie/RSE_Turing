{
 "cells": [
  {
   "cell_type": "code",
   "execution_count": null,
   "metadata": {},
   "outputs": [],
   "source": [
    "# Programming for Speed\n",
    "\n",
    "https://alan-turing-institute.github.io/rse-course/html/module09_programming_for_speed/index.html\n",
    "\n"
   ]
  },
  {
   "cell_type": "markdown",
   "metadata": {},
   "source": [
    "## Performance programming\n",
    "\n",
    "So far, code should be readable and reliable, but for research work, it should also do its thing quickly. Esential to profile code to find what is slow.\n",
    "In this section, take some Mandelbrot function and make it 10x faster.\n",
    "\n",
    "## Numpy for performance\n",
    "\n",
    "The magic of numpy arrays is that most Python operations are applied, quickly, on an elementwise basis. So do Numpy mathematical functions, said to be \"vectorized\" functions.\n",
    "Numpy version of the code gives 10x.\n",
    "\n",
    "### Profiling\n",
    "\n",
    "IPython offers a profilier through the `prun` magic: ``%prun mandel7(values)`` \n",
    "\n",
    "## Cython\n",
    "\n",
    "Cython source code will be compiled into optimised C code, it's a way to write Python with comparable performance to that of C.\n",
    "\n",
    "Unlike Python, Cython needs to be complied. The cython code in .pyx will be translated to a c file, compiled and then loaded to Python.\n",
    "\n",
    "This improves further the Mandelbrot code by 1.5 without changing the code.\n",
    "We can help it further by using C types and cpdef+cdef to say what types we use.\n",
    "\n",
    "We can also call C functions from Cython with lib.math cimport.\n",
    "\n",
    "## Scaling for containers and algorithms\n",
    "\n"
   ]
  }
 ],
 "metadata": {
  "kernelspec": {
   "display_name": "Python 3.9.6 64-bit",
   "language": "python",
   "name": "python3"
  },
  "language_info": {
   "name": "python",
   "version": "3.9.6"
  },
  "orig_nbformat": 4,
  "vscode": {
   "interpreter": {
    "hash": "dbe13e8ecf7f902daa0bac59e856e82ccef02589d1c9f5ba2af2c82aa720c033"
   }
  }
 },
 "nbformat": 4,
 "nbformat_minor": 2
}
