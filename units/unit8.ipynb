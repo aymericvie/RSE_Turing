{
 "cells": [
  {
   "cell_type": "markdown",
   "metadata": {},
   "source": [
    "# Advanced programming techniques\n",
    "\n",
    "https://alan-turing-institute.github.io/rse-course/html/module08_advanced_programming_techniques/index.html\n",
    "\n",
    "Or how to avoid repeating yourseulf."
   ]
  },
  {
   "cell_type": "markdown",
   "metadata": {},
   "source": [
    "## Functional Programming\n",
    "\n",
    "OOP is not the only way to write code. The functional paradigm emphasizes functions as building blocks of programs. \n",
    "Ex: functions inside functions. \n",
    "\n",
    "Map and reduce is very efficient, map applies a function to each variable in an array.\n",
    "\n",
    "```list(map(add_five, numbers))```\n",
    "\n",
    "Lambda functions are useful to define a function on the fly.\n",
    "```\n",
    "func_name = lambda a, b, c: a + b + c\n",
    "\n",
    "\n",
    "def func_name(a, b, c):\n",
    "    return a + b + c\n",
    "```"
   ]
  },
  {
   "cell_type": "markdown",
   "metadata": {},
   "source": [
    "## Iterators and Generators\n",
    "\n",
    "Anything which can be iterated over is called an iterable. \n",
    "\n",
    "### Iterators\n",
    "\n",
    "```range(10)```is an iterable. More details.\n",
    "\n",
    "### Generators\n",
    "### Decorators\n",
    "\n",
    "```\n",
    "def repeat(func):\n",
    "    def _repeated(x):\n",
    "        return func(func(x))\n",
    "    \n",
    "    return _repeated\n",
    "\n",
    "\n",
    "def hello(name):\n",
    "    return f\"Hello, {name}\"\n",
    "\n",
    "\n",
    "print(hello(\"Cleese\"))\n",
    "print(repeat(hello)(\"Cleese\"))\n",
    "```\n",
    "\n",
    "Any function which accepts a function as its first argument and returns a function can be used as a decorator like this:\n",
    "\n",
    "```\n",
    "@repeat\n",
    "def hello(name):\n",
    "    return f\"Hello, {name}\"\n",
    "\n",
    "\n",
    "hello(\"Cleese\")\n",
    "'Hello, Hello, Cleese'\n",
    "```\n",
    "\n",
    "## Exceptions\n",
    "\n",
    "We can create our own exceptions. Re-raising them with try except to execute some code before raising the exception.\n",
    "\n",
    "## Operator overloading\n",
    "Advanced\n",
    "\n",
    "## Metaprogramming\n",
    "Advanced\n",
    "\n",
    "\n",
    "\n"
   ]
  }
 ],
 "metadata": {
  "kernelspec": {
   "display_name": "Python 3.9.6 64-bit",
   "language": "python",
   "name": "python3"
  },
  "language_info": {
   "name": "python",
   "version": "3.9.6"
  },
  "orig_nbformat": 4,
  "vscode": {
   "interpreter": {
    "hash": "dbe13e8ecf7f902daa0bac59e856e82ccef02589d1c9f5ba2af2c82aa720c033"
   }
  }
 },
 "nbformat": 4,
 "nbformat_minor": 2
}
