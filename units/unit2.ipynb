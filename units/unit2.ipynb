{
 "cells": [
  {
   "cell_type": "markdown",
   "metadata": {},
   "source": [
    "# 2. Intermediate Python\n",
    "\n",
    "https://alan-turing-institute.github.io/rse-course/html/module02_intermediate_python/index.html"
   ]
  },
  {
   "cell_type": "markdown",
   "metadata": {},
   "source": [
    "## Comprehensions\n",
    "\n",
    "### List comprehensions\n",
    "\n",
    "If we write a for loop inside a pair of square brackets, this defines a list. It is concise but can be hard to read."
   ]
  },
  {
   "cell_type": "code",
   "execution_count": 1,
   "metadata": {},
   "outputs": [
    {
     "data": {
      "text/plain": [
       "[1, 2, 4, 8, 16, 32, 64, 128, 256, 512]"
      ]
     },
     "execution_count": 1,
     "metadata": {},
     "output_type": "execute_result"
    }
   ],
   "source": [
    "[2 ** x for x in range(10)]"
   ]
  },
  {
   "cell_type": "markdown",
   "metadata": {},
   "source": [
    "### Selection in comprehensions\n",
    "\n",
    "You can also add an ```if``` statement."
   ]
  },
  {
   "cell_type": "code",
   "execution_count": 2,
   "metadata": {},
   "outputs": [
    {
     "data": {
      "text/plain": [
       "[1, 8, 64, 512]"
      ]
     },
     "execution_count": 2,
     "metadata": {},
     "output_type": "execute_result"
    }
   ],
   "source": [
    "[2 ** x for x in range(10) if x % 3 == 0]"
   ]
  },
  {
   "cell_type": "markdown",
   "metadata": {},
   "source": [
    "### Nested comprehensions\n",
    "\n",
    "It is possible to write two ``for`` statements in a comprehension. "
   ]
  },
  {
   "cell_type": "code",
   "execution_count": 3,
   "metadata": {},
   "outputs": [
    {
     "data": {
      "text/plain": [
       "[0, -1, -2, -3, 1, 0, -1, -2, 2, 1, 0, -1, 3, 2, 1, 0]"
      ]
     },
     "execution_count": 3,
     "metadata": {},
     "output_type": "execute_result"
    }
   ],
   "source": [
    "[x-y for x in range(4) for y in range(4)]"
   ]
  },
  {
   "cell_type": "code",
   "execution_count": 4,
   "metadata": {},
   "outputs": [
    {
     "data": {
      "text/plain": [
       "[0, 1, 0, 2, 1, 0, 3, 2, 1, 0]"
      ]
     },
     "execution_count": 4,
     "metadata": {},
     "output_type": "execute_result"
    }
   ],
   "source": [
    "[x - y for x in range(4) for y in range(4) if x >= y]"
   ]
  },
  {
   "cell_type": "markdown",
   "metadata": {},
   "source": [
    "We can also use double brackets to have a matrix form."
   ]
  },
  {
   "cell_type": "code",
   "execution_count": 5,
   "metadata": {},
   "outputs": [
    {
     "data": {
      "text/plain": [
       "[[0, 1, 2, 3], [-1, 0, 1, 2], [-2, -1, 0, 1], [-3, -2, -1, 0]]"
      ]
     },
     "execution_count": 5,
     "metadata": {},
     "output_type": "execute_result"
    }
   ],
   "source": [
    "[[x - y for x in range(4)] for y in range(4)]"
   ]
  },
  {
   "cell_type": "markdown",
   "metadata": {},
   "source": [
    "The list order for multiple or nested comprehensions can be confusing."
   ]
  },
  {
   "cell_type": "code",
   "execution_count": 6,
   "metadata": {},
   "outputs": [
    {
     "data": {
      "text/plain": [
       "['a1', 'a2', 'a3', 'b1', 'b2', 'b3', 'c1', 'c2', 'c3']"
      ]
     },
     "execution_count": 6,
     "metadata": {},
     "output_type": "execute_result"
    }
   ],
   "source": [
    "[x + y for x in [\"a\", \"b\", \"c\"] for y in [\"1\", \"2\", \"3\"]]"
   ]
  },
  {
   "cell_type": "code",
   "execution_count": 7,
   "metadata": {},
   "outputs": [
    {
     "data": {
      "text/plain": [
       "[['a1', 'b1', 'c1'], ['a2', 'b2', 'c2'], ['a3', 'b3', 'c3']]"
      ]
     },
     "execution_count": 7,
     "metadata": {},
     "output_type": "execute_result"
    }
   ],
   "source": [
    "[[x + y for x in [\"a\", \"b\", \"c\"]] for y in [\"1\", \"2\", \"3\"]]"
   ]
  },
  {
   "cell_type": "markdown",
   "metadata": {},
   "source": [
    "### Dictionary comprehensions\n",
    "\n",
    "It is possible to automatically build dicitonaries using a comprehension syntax, but with curly brackets and a colon."
   ]
  },
  {
   "cell_type": "code",
   "execution_count": 8,
   "metadata": {},
   "outputs": [
    {
     "data": {
      "text/plain": [
       "{'000': 0, '111': 1, '222': 2}"
      ]
     },
     "execution_count": 8,
     "metadata": {},
     "output_type": "execute_result"
    }
   ],
   "source": [
    "{(str(x)) * 3: x for x in range(3)}"
   ]
  },
  {
   "cell_type": "markdown",
   "metadata": {},
   "source": [
    "### List-based thinking\n",
    "\n",
    "There are many built-in methods that provide actions on lists."
   ]
  },
  {
   "cell_type": "code",
   "execution_count": 10,
   "metadata": {},
   "outputs": [
    {
     "data": {
      "text/plain": [
       "True"
      ]
     },
     "execution_count": 10,
     "metadata": {},
     "output_type": "execute_result"
    }
   ],
   "source": [
    "any([True, False, True])"
   ]
  },
  {
   "cell_type": "code",
   "execution_count": 9,
   "metadata": {},
   "outputs": [
    {
     "data": {
      "text/plain": [
       "False"
      ]
     },
     "execution_count": 9,
     "metadata": {},
     "output_type": "execute_result"
    }
   ],
   "source": [
    "all([True, False, True])"
   ]
  },
  {
   "cell_type": "code",
   "execution_count": 11,
   "metadata": {},
   "outputs": [
    {
     "data": {
      "text/plain": [
       "11"
      ]
     },
     "execution_count": 11,
     "metadata": {},
     "output_type": "execute_result"
    }
   ],
   "source": [
    "sum([1,2,3]) + max([1,2,5])"
   ]
  },
  {
   "cell_type": "markdown",
   "metadata": {},
   "source": [
    "A notable one is ```map```, which applies one function to every member of the list."
   ]
  },
  {
   "cell_type": "code",
   "execution_count": 12,
   "metadata": {},
   "outputs": [
    {
     "data": {
      "text/plain": [
       "['0', '1', '2', '3', '4', '5', '6', '7', '8', '9']"
      ]
     },
     "execution_count": 12,
     "metadata": {},
     "output_type": "execute_result"
    }
   ],
   "source": [
    "list(map(str, range(10)))"
   ]
  },
  {
   "cell_type": "markdown",
   "metadata": {},
   "source": [
    "### Classroom exercise: occupancy dictionary"
   ]
  },
  {
   "cell_type": "code",
   "execution_count": 28,
   "metadata": {},
   "outputs": [
    {
     "name": "stdout",
     "output_type": "stream",
     "text": [
      "{'living': 2, 'kitchen': 1, 'garden': 3, 'bedroom': 1}\n",
      "{'living': 1, 'garden': 1}\n"
     ]
    }
   ],
   "source": [
    "house = {\n",
    "    \"living\": {\n",
    "        \"exits\": {\"north\": \"kitchen\", \"outside\": \"garden\", \"upstairs\": \"bedroom\"},\n",
    "        \"people\": [\"James\"],\n",
    "        \"capacity\": 2,\n",
    "    },\n",
    "    \"kitchen\": {\"exits\": {\"south\": \"living\"}, \"people\": [], \"capacity\": 1},\n",
    "    \"garden\": {\"exits\": {\"inside\": \"living\"}, \"people\": [\"Sue\"], \"capacity\": 3},\n",
    "    \"bedroom\": {\n",
    "        \"exits\": {\"downstairs\": \"living\", \"jump\": \"garden\"},\n",
    "        \"people\": [],\n",
    "        \"capacity\": 1,\n",
    "    },\n",
    "}\n",
    "\n",
    "occupancy = {name: room[\"capacity\"] for name, room in house.items()}\n",
    "print(occupancy)\n",
    "\n",
    "occupancy = {name: len(room[\"people\"]) for name, room in house.items() if len(room[\"people\"]) != 0}\n",
    "print(occupancy)\n",
    "\n",
    "# Very good!\n",
    "# I did not remember using house.items() at first."
   ]
  },
  {
   "cell_type": "markdown",
   "metadata": {},
   "source": [
    "## Functions in Python\n",
    "\n",
    "### Definition\n",
    "\n",
    "Use ```def``` to define a function, and ```return``` to pass back a value."
   ]
  },
  {
   "cell_type": "code",
   "execution_count": 29,
   "metadata": {},
   "outputs": [
    {
     "data": {
      "text/plain": [
       "10"
      ]
     },
     "execution_count": 29,
     "metadata": {},
     "output_type": "execute_result"
    }
   ],
   "source": [
    "def double(x):\n",
    "    return x * 2\n",
    "double(5)"
   ]
  },
  {
   "cell_type": "markdown",
   "metadata": {},
   "source": [
    "### Default parameters\n",
    "\n",
    "We can specificy default values for parameters."
   ]
  },
  {
   "cell_type": "code",
   "execution_count": 31,
   "metadata": {},
   "outputs": [
    {
     "name": "stdout",
     "output_type": "stream",
     "text": [
      "very good, Sir\n",
      "very good, Aymeric\n"
     ]
    }
   ],
   "source": [
    "def jeeves(name=\"Sir\"):\n",
    "    return \"very good, {}\".format(name)\n",
    "print(jeeves())\n",
    "print(jeeves(\"Aymeric\"))"
   ]
  },
  {
   "cell_type": "markdown",
   "metadata": {},
   "source": [
    "If we have mltiple parameters, those with defaults must go later."
   ]
  },
  {
   "cell_type": "code",
   "execution_count": 33,
   "metadata": {},
   "outputs": [
    {
     "data": {
      "text/plain": [
       "'Suits you, Sir'"
      ]
     },
     "execution_count": 33,
     "metadata": {},
     "output_type": "execute_result"
    }
   ],
   "source": [
    "def jeeves(greeting=\"Very good\", name=\"Sir\"):\n",
    "    return \"{}, {}\".format(greeting, name)\n",
    "\n",
    "jeeves(greeting=\"Suits you\")"
   ]
  },
  {
   "cell_type": "markdown",
   "metadata": {},
   "source": [
    "### Side effects\n",
    "\n",
    "Functions can do things to change their **mutable** arguments, so ```return``` is optional, but this is bad style. We would usually just write this as a function which returned the output."
   ]
  },
  {
   "cell_type": "code",
   "execution_count": 34,
   "metadata": {},
   "outputs": [
    {
     "name": "stdout",
     "output_type": "stream",
     "text": [
      "[0, 2, 4, 6]\n"
     ]
    }
   ],
   "source": [
    "def double_inplace(vec):\n",
    "    vec[:] = [element * 2 for element in vec]\n",
    "\n",
    "\n",
    "z = list(range(4))\n",
    "double_inplace(z)\n",
    "print(z)"
   ]
  },
  {
   "cell_type": "markdown",
   "metadata": {},
   "source": [
    "Indeed, the following code would just move a local label, not change the input."
   ]
  },
  {
   "cell_type": "code",
   "execution_count": 35,
   "metadata": {},
   "outputs": [],
   "source": [
    "vec  = [1,2,3]\n",
    "vec = [element*2 for element in vec]"
   ]
  },
  {
   "cell_type": "markdown",
   "metadata": {},
   "source": [
    "The correct style is to write this as a function which returns the output."
   ]
  },
  {
   "cell_type": "code",
   "execution_count": 36,
   "metadata": {},
   "outputs": [],
   "source": [
    "def double(vec):\n",
    "    return [element * 2 for element in vec]"
   ]
  },
  {
   "cell_type": "markdown",
   "metadata": {},
   "source": [
    "Reminder of the behaviour for modifying lists in-place using ```[:]```."
   ]
  },
  {
   "cell_type": "code",
   "execution_count": 43,
   "metadata": {},
   "outputs": [
    {
     "name": "stdout",
     "output_type": "stream",
     "text": [
      "['a', 'b', 'c']\n"
     ]
    }
   ],
   "source": [
    "x = 5\n",
    "x = 7\n",
    "x = [\"a\", \"b\", \"c\"]\n",
    "y = x\n",
    "print(y)"
   ]
  },
  {
   "cell_type": "code",
   "execution_count": 42,
   "metadata": {},
   "outputs": [
    {
     "data": {
      "text/plain": [
       "['Horray', 'Yippee']"
      ]
     },
     "execution_count": 42,
     "metadata": {},
     "output_type": "execute_result"
    }
   ],
   "source": [
    "x[:] = [\"Horray\", \"Yippee\"]\n",
    "y"
   ]
  },
  {
   "cell_type": "markdown",
   "metadata": {},
   "source": [
    "### Early return\n",
    "\n",
    "Return without arguments can be used to exit early from a function. Example with a function with side-effects."
   ]
  },
  {
   "cell_type": "code",
   "execution_count": 44,
   "metadata": {},
   "outputs": [],
   "source": [
    "def extend(to, vec, pad):\n",
    "    if len(vec) >= to:\n",
    "        return  # Exit early, list is already long enough.\n",
    "\n",
    "    vec[:] = vec + [pad] * (to - len(vec))"
   ]
  },
  {
   "cell_type": "markdown",
   "metadata": {},
   "source": [
    "### Unpacking arguments\n",
    "\n",
    "If a function taking multiple arguments, is given an iterable object prepended with ```*```, each element of taht object is taken in turn and used to fill the function's argument one by one."
   ]
  },
  {
   "cell_type": "code",
   "execution_count": 48,
   "metadata": {},
   "outputs": [
    {
     "data": {
      "text/plain": [
       "'1 -> -1'"
      ]
     },
     "execution_count": 48,
     "metadata": {},
     "output_type": "execute_result"
    }
   ],
   "source": [
    "def arrow(before, after):\n",
    "    return str(before) + \" -> \" + str(after)\n",
    "\n",
    "\n",
    "arrow(1, -1)"
   ]
  },
  {
   "cell_type": "code",
   "execution_count": 46,
   "metadata": {},
   "outputs": [
    {
     "data": {
      "text/plain": [
       "'1 -> -1'"
      ]
     },
     "execution_count": 46,
     "metadata": {},
     "output_type": "execute_result"
    }
   ],
   "source": [
    "x = [1, -1]\n",
    "arrow(*x)"
   ]
  },
  {
   "cell_type": "markdown",
   "metadata": {},
   "source": [
    "### Sequence arguments\n",
    "\n",
    "If a ```*``` is used in the definition of a function, multiple arguments are absorbed into a list inside the function."
   ]
  },
  {
   "cell_type": "code",
   "execution_count": 51,
   "metadata": {},
   "outputs": [
    {
     "data": {
      "text/plain": [
       "[10, 4, 'Wow!Wow!']"
      ]
     },
     "execution_count": 51,
     "metadata": {},
     "output_type": "execute_result"
    }
   ],
   "source": [
    "def doubler(*sequence):\n",
    "    return [x * 2 for x in sequence]\n",
    "doubler(5, 2, \"Wow!\")"
   ]
  },
  {
   "cell_type": "code",
   "execution_count": 52,
   "metadata": {},
   "outputs": [
    {
     "data": {
      "text/plain": [
       "[6]"
      ]
     },
     "execution_count": 52,
     "metadata": {},
     "output_type": "execute_result"
    }
   ],
   "source": [
    "doubler(3)"
   ]
  },
  {
   "cell_type": "markdown",
   "metadata": {},
   "source": [
    "### Keyword arguments\n",
    "\n",
    "If two arterisks are used, name arguments are supplied inside the function as a dictionary. "
   ]
  },
  {
   "cell_type": "code",
   "execution_count": 53,
   "metadata": {},
   "outputs": [
    {
     "name": "stdout",
     "output_type": "stream",
     "text": [
      "neutron -> n\n",
      "proton -> p\n",
      "electron -> e\n"
     ]
    }
   ],
   "source": [
    "def arrowify(**args):\n",
    "    for key, value in args.items():\n",
    "        print(key + \" -> \" + value)\n",
    "\n",
    "\n",
    "arrowify(neutron=\"n\", proton=\"p\", electron=\"e\")"
   ]
  },
  {
   "cell_type": "code",
   "execution_count": 54,
   "metadata": {},
   "outputs": [
    {
     "name": "stdout",
     "output_type": "stream",
     "text": [
      "A: 1\n",
      "B: 2\n",
      "args: (3, 4, 5)\n",
      "keyword args {'fish': 'Haddock'}\n"
     ]
    }
   ],
   "source": [
    "def somefunc(a, b, *args, **kwargs):\n",
    "    print(\"A:\", a)\n",
    "    print(\"B:\", b)\n",
    "    print(\"args:\", args)\n",
    "    print(\"keyword args\", kwargs)\n",
    "somefunc(1, 2, 3, 4, 5, fish=\"Haddock\")"
   ]
  },
  {
   "cell_type": "markdown",
   "metadata": {},
   "source": [
    "## Modules in Python: Using Libraries\n",
    "\n",
    "### Import\n",
    "\n",
    "To use a function or type from a Python library, rather than a **built-in** function or type, we have to import the library."
   ]
  },
  {
   "cell_type": "code",
   "execution_count": 55,
   "metadata": {},
   "outputs": [
    {
     "data": {
      "text/plain": [
       "0.9995736030415051"
      ]
     },
     "execution_count": 55,
     "metadata": {},
     "output_type": "execute_result"
    }
   ],
   "source": [
    "import math\n",
    "math.sin(1.6)"
   ]
  },
  {
   "cell_type": "markdown",
   "metadata": {},
   "source": [
    "We call those libraries **modules**."
   ]
  },
  {
   "cell_type": "code",
   "execution_count": 56,
   "metadata": {},
   "outputs": [
    {
     "data": {
      "text/plain": [
       "module"
      ]
     },
     "execution_count": 56,
     "metadata": {},
     "output_type": "execute_result"
    }
   ],
   "source": [
    "type(math)"
   ]
  },
  {
   "cell_type": "markdown",
   "metadata": {},
   "source": [
    "The tools supplied by a module are **attributes** of the module, accessed by a dot."
   ]
  },
  {
   "cell_type": "code",
   "execution_count": 57,
   "metadata": {},
   "outputs": [
    {
     "data": {
      "text/plain": [
       "['__doc__',\n",
       " '__file__',\n",
       " '__loader__',\n",
       " '__name__',\n",
       " '__package__',\n",
       " '__spec__',\n",
       " 'acos',\n",
       " 'acosh',\n",
       " 'asin',\n",
       " 'asinh',\n",
       " 'atan',\n",
       " 'atan2',\n",
       " 'atanh',\n",
       " 'ceil',\n",
       " 'comb',\n",
       " 'copysign',\n",
       " 'cos',\n",
       " 'cosh',\n",
       " 'degrees',\n",
       " 'dist',\n",
       " 'e',\n",
       " 'erf',\n",
       " 'erfc',\n",
       " 'exp',\n",
       " 'expm1',\n",
       " 'fabs',\n",
       " 'factorial',\n",
       " 'floor',\n",
       " 'fmod',\n",
       " 'frexp',\n",
       " 'fsum',\n",
       " 'gamma',\n",
       " 'gcd',\n",
       " 'hypot',\n",
       " 'inf',\n",
       " 'isclose',\n",
       " 'isfinite',\n",
       " 'isinf',\n",
       " 'isnan',\n",
       " 'isqrt',\n",
       " 'lcm',\n",
       " 'ldexp',\n",
       " 'lgamma',\n",
       " 'log',\n",
       " 'log10',\n",
       " 'log1p',\n",
       " 'log2',\n",
       " 'modf',\n",
       " 'nan',\n",
       " 'nextafter',\n",
       " 'perm',\n",
       " 'pi',\n",
       " 'pow',\n",
       " 'prod',\n",
       " 'radians',\n",
       " 'remainder',\n",
       " 'sin',\n",
       " 'sinh',\n",
       " 'sqrt',\n",
       " 'tan',\n",
       " 'tanh',\n",
       " 'tau',\n",
       " 'trunc',\n",
       " 'ulp']"
      ]
     },
     "execution_count": 57,
     "metadata": {},
     "output_type": "execute_result"
    }
   ],
   "source": [
    "dir(math)"
   ]
  },
  {
   "cell_type": "markdown",
   "metadata": {},
   "source": [
    "You can find where the library ahs been imported from."
   ]
  },
  {
   "cell_type": "code",
   "execution_count": 58,
   "metadata": {},
   "outputs": [
    {
     "name": "stdout",
     "output_type": "stream",
     "text": [
      "/Library/Frameworks/Python.framework/Versions/3.9/\n"
     ]
    }
   ],
   "source": [
    "print(math.__file__[0:50])"
   ]
  },
  {
   "cell_type": "markdown",
   "metadata": {},
   "source": [
    "```import``` does not install libraries, but makes them available to the current sessionm ssuming they are already installed."
   ]
  },
  {
   "cell_type": "markdown",
   "metadata": {},
   "source": [
    "### Importing from modules\n",
    "\n",
    "Things can be imported from modules to become part of the current module, to avoid typing ```math.sin(math.pi)```."
   ]
  },
  {
   "cell_type": "code",
   "execution_count": 59,
   "metadata": {},
   "outputs": [
    {
     "data": {
      "text/plain": [
       "1.2246467991473532e-16"
      ]
     },
     "execution_count": 59,
     "metadata": {},
     "output_type": "execute_result"
    }
   ],
   "source": [
    "from math import sin, pi\n",
    "sin(pi)"
   ]
  },
  {
   "cell_type": "markdown",
   "metadata": {},
   "source": [
    "It is possible to import everything from a module, but risking name clashes."
   ]
  },
  {
   "cell_type": "code",
   "execution_count": 60,
   "metadata": {},
   "outputs": [
    {
     "data": {
      "text/plain": [
       "1.2246467991473532e-16"
      ]
     },
     "execution_count": 60,
     "metadata": {},
     "output_type": "execute_result"
    }
   ],
   "source": [
    "from math import *\n",
    "sin(pi)"
   ]
  },
  {
   "cell_type": "markdown",
   "metadata": {},
   "source": [
    "### Import and rename\n",
    "\n",
    "You can rename things as you import them to avoid clashes or for typing convenience."
   ]
  },
  {
   "cell_type": "code",
   "execution_count": 63,
   "metadata": {},
   "outputs": [
    {
     "data": {
      "text/plain": [
       "1.0"
      ]
     },
     "execution_count": 63,
     "metadata": {},
     "output_type": "execute_result"
    }
   ],
   "source": [
    "import math as m \n",
    "m.cos(0)"
   ]
  },
  {
   "cell_type": "markdown",
   "metadata": {},
   "source": [
    "## An introduction to classes: defining your own classes"
   ]
  },
  {
   "cell_type": "markdown",
   "metadata": {},
   "source": [
    "A **class** is a user-programmed Python type. It can be defined like:"
   ]
  },
  {
   "cell_type": "code",
   "execution_count": 65,
   "metadata": {},
   "outputs": [],
   "source": [
    "class Room(object):\n",
    "    pass \n",
    "\n",
    "class Room():\n",
    "    pass\n",
    "\n",
    "class Room:\n",
    "    pass"
   ]
  },
  {
   "cell_type": "markdown",
   "metadata": {},
   "source": [
    "Like other python types, we use the name of the type as a function to ake a variable of that type."
   ]
  },
  {
   "cell_type": "code",
   "execution_count": 66,
   "metadata": {},
   "outputs": [
    {
     "data": {
      "text/plain": [
       "int"
      ]
     },
     "execution_count": 66,
     "metadata": {},
     "output_type": "execute_result"
    }
   ],
   "source": [
    "zero = int() \n",
    "type(zero)"
   ]
  },
  {
   "cell_type": "code",
   "execution_count": 67,
   "metadata": {},
   "outputs": [
    {
     "data": {
      "text/plain": [
       "__main__.Room"
      ]
     },
     "execution_count": 67,
     "metadata": {},
     "output_type": "execute_result"
    }
   ],
   "source": [
    "myroom = Room()\n",
    "type(myroom)"
   ]
  },
  {
   "cell_type": "markdown",
   "metadata": {},
   "source": [
    "An **object** is an **instance** of a particular **class**.\n",
    "\n",
    "```__main__``` is the name of the scope in which top-level code executesm where we've defined the class ```Room```.\n",
    "\n",
    "Once we have an object with a type of our choice, we can add properties."
   ]
  },
  {
   "cell_type": "code",
   "execution_count": 68,
   "metadata": {},
   "outputs": [
    {
     "data": {
      "text/plain": [
       "'Living'"
      ]
     },
     "execution_count": 68,
     "metadata": {},
     "output_type": "execute_result"
    }
   ],
   "source": [
    "myroom.name = \"Living\"\n",
    "myroom.name"
   ]
  },
  {
   "cell_type": "markdown",
   "metadata": {},
   "source": [
    "We usually use classes to group data into an object in a way that is easier to read than organising data into lists and dictionaries."
   ]
  },
  {
   "cell_type": "code",
   "execution_count": 69,
   "metadata": {},
   "outputs": [],
   "source": [
    "myroom.capacity = 3\n",
    "myroom.occupants = [\"James\", \"Sue\"]"
   ]
  },
  {
   "cell_type": "markdown",
   "metadata": {},
   "source": [
    "### Methods \n",
    "\n",
    "So far, our class does not do much. We can define functions **inside** the definition of a class, just like the methods on built-in types.\n",
    "\n",
    "Methods which begin and end with **two underscores** in their names have sepcial capabilities, such as constructors."
   ]
  },
  {
   "cell_type": "code",
   "execution_count": 71,
   "metadata": {},
   "outputs": [
    {
     "data": {
      "text/plain": [
       "False"
      ]
     },
     "execution_count": 71,
     "metadata": {},
     "output_type": "execute_result"
    }
   ],
   "source": [
    "class Room:\n",
    "    def overfull(self):\n",
    "        return len(self.occupants) > self.capacity\n",
    "\n",
    "myroom = Room()\n",
    "myroom.capacity = 3\n",
    "myroom.occupants = [\"James\", \"Sue\"]\n",
    "myroom.overfull()"
   ]
  },
  {
   "cell_type": "code",
   "execution_count": 73,
   "metadata": {},
   "outputs": [
    {
     "data": {
      "text/plain": [
       "True"
      ]
     },
     "execution_count": 73,
     "metadata": {},
     "output_type": "execute_result"
    }
   ],
   "source": [
    "myroom.occupants.append([\"Bob\"])\n",
    "myroom.occupants.append([\"Bobby\"])\n",
    "myroom.overfull()"
   ]
  },
  {
   "cell_type": "markdown",
   "metadata": {},
   "source": [
    "When we write methods, we always write the first function argument as ``self`` to refer to the object instance itself. It is just a convention, not a keyword.\n",
    "\n",
    "### Constructors\n",
    "\n",
    "Usually, we don't add data to the class attributes on the fly like that. We define instead a **constructor** that converts input data into an object."
   ]
  },
  {
   "cell_type": "code",
   "execution_count": 74,
   "metadata": {},
   "outputs": [
    {
     "data": {
      "text/plain": [
       "3"
      ]
     },
     "execution_count": 74,
     "metadata": {},
     "output_type": "execute_result"
    }
   ],
   "source": [
    "class Room:\n",
    "    def __init__ (self, name, exits, capacity, occupants =[]):\n",
    "        self.name = name\n",
    "        self.occupants = occupants # note the default argument\n",
    "        self.exits = exits\n",
    "        self.capacity = capacity \n",
    "\n",
    "    def overfull(self):\n",
    "        return len(self.occupants) > self.capacity\n",
    "\n",
    "living = Room(\"Living Room\", {\"north\": \"garden\"}, 3)\n",
    "living.capacity"
   ]
  },
  {
   "cell_type": "markdown",
   "metadata": {},
   "source": [
    "### Object-oriented design\n",
    "\n",
    "We often want to make:\n",
    "* classes for each kind of thing in our system\n",
    "* methods for each capability of that kind\n",
    "* properties (defined in a constructor) for each piece of information describing that kind."
   ]
  },
  {
   "cell_type": "code",
   "execution_count": 76,
   "metadata": {},
   "outputs": [],
   "source": [
    "# for example\n",
    "\n",
    "class Maze:\n",
    "    def __init__(self, name):\n",
    "        self.name = name\n",
    "        self.rooms = {}\n",
    "\n",
    "    def add_room(self, room):\n",
    "        room.maze = self  # The Room needs to know\n",
    "        # which Maze it is a part of\n",
    "        self.rooms[room.name] = room\n",
    "\n",
    "    def occupants(self):\n",
    "        return [\n",
    "            occupant\n",
    "            for room in self.rooms.values()\n",
    "            for occupant in room.occupants.values()\n",
    "        ]\n",
    "\n",
    "    def wander(self):\n",
    "        \"\"\"Move all the people in a random direction\"\"\"\n",
    "        for occupant in self.occupants():\n",
    "            occupant.wander()\n",
    "\n",
    "    def describe(self):\n",
    "        for room in self.rooms.values():\n",
    "            room.describe()\n",
    "\n",
    "    def step(self):\n",
    "        self.describe()\n",
    "        print(\"\")\n",
    "        self.wander()\n",
    "        print(\"\")\n",
    "\n",
    "    def simulate(self, steps):\n",
    "        for _ in range(steps):\n",
    "            self.step()\n",
    "\n",
    "# A rooom class\n",
    "class Room:\n",
    "    def __init__(self, name, exits, capacity, maze=None):\n",
    "        self.maze = maze\n",
    "        self.name = name\n",
    "        self.occupants = {}  # Note the default argument, occupants start empty\n",
    "        self.exits = exits  # Should be a dictionary from directions to room names\n",
    "        self.capacity = capacity\n",
    "\n",
    "    def has_space(self):\n",
    "        return len(self.occupants) < self.capacity\n",
    "\n",
    "    def available_exits(self):\n",
    "        return [\n",
    "            exit\n",
    "            for exit, target in self.exits.items()\n",
    "            if self.maze.rooms[target].has_space()\n",
    "        ]\n",
    "\n",
    "    def random_valid_exit(self):\n",
    "        import random\n",
    "\n",
    "        if not self.available_exits():\n",
    "            return None\n",
    "        return random.choice(self.available_exits())\n",
    "\n",
    "    def destination(self, exit):\n",
    "        return self.maze.rooms[self.exits[exit]]\n",
    "\n",
    "    def add_occupant(self, occupant):\n",
    "        occupant.room = self  # The person needs to know which room it is in\n",
    "        self.occupants[occupant.name] = occupant\n",
    "\n",
    "    def delete_occupant(self, occupant):\n",
    "        del self.occupants[occupant.name]\n",
    "\n",
    "    def describe(self):\n",
    "        if self.occupants:\n",
    "            print(f\"{self.name}: \" + \" \".join(self.occupants.keys()))\n",
    "\n",
    "## a person class\n",
    "class Person:\n",
    "    def __init__(self, name, room=None):\n",
    "        self.name = name\n",
    "\n",
    "    def use(self, exit):\n",
    "        self.room.delete_occupant(self)\n",
    "        destination = self.room.destination(exit)\n",
    "        destination.add_occupant(self)\n",
    "        print(\n",
    "            \"{some} goes {action} to the {where}\".format(\n",
    "                some=self.name, action=exit, where=destination.name\n",
    "            )\n",
    "        )\n",
    "\n",
    "    def wander(self):\n",
    "        exit = self.room.random_valid_exit()\n",
    "        if exit:\n",
    "            self.use(exit)"
   ]
  },
  {
   "cell_type": "code",
   "execution_count": 78,
   "metadata": {},
   "outputs": [
    {
     "name": "stdout",
     "output_type": "stream",
     "text": [
      "livingroom: James\n",
      "garden: Sue Clare\n",
      "bedroom: Bob\n",
      "\n",
      "James goes north to the kitchen\n",
      "Sue goes inside to the livingroom\n",
      "Clare goes inside to the livingroom\n",
      "Bob goes jump to the garden\n",
      "\n",
      "livingroom: Sue Clare\n",
      "kitchen: James\n",
      "garden: Bob\n",
      "\n",
      "Sue goes upstairs to the bedroom\n",
      "Clare goes outside to the garden\n",
      "James goes south to the livingroom\n",
      "Bob goes inside to the livingroom\n",
      "\n",
      "livingroom: James Bob\n",
      "garden: Clare\n",
      "bedroom: Sue\n",
      "\n",
      "James goes north to the kitchen\n",
      "Bob goes outside to the garden\n",
      "Clare goes inside to the livingroom\n",
      "Sue goes downstairs to the livingroom\n",
      "\n"
     ]
    }
   ],
   "source": [
    "james = Person(\"James\")\n",
    "sue = Person(\"Sue\")\n",
    "bob = Person(\"Bob\")\n",
    "clare = Person(\"Clare\")\n",
    "\n",
    "living = Room(\n",
    "    \"livingroom\", {\"outside\": \"garden\", \"upstairs\": \"bedroom\", \"north\": \"kitchen\"}, 2\n",
    ")\n",
    "kitchen = Room(\"kitchen\", {\"south\": \"livingroom\"}, 1)\n",
    "garden = Room(\"garden\", {\"inside\": \"livingroom\"}, 3)\n",
    "bedroom = Room(\"bedroom\", {\"jump\": \"garden\", \"downstairs\": \"livingroom\"}, 1)\n",
    "\n",
    "house = Maze(\"My House\")\n",
    "\n",
    "for room in [living, kitchen, garden, bedroom]:\n",
    "    house.add_room(room)\n",
    "\n",
    "living.add_occupant(james)\n",
    "garden.add_occupant(sue)\n",
    "garden.add_occupant(clare)\n",
    "bedroom.add_occupant(bob)\n",
    "house.simulate(3)"
   ]
  },
  {
   "cell_type": "markdown",
   "metadata": {},
   "source": [
    "### Alteernative object models\n",
    "\n",
    "There are many possible designs. Another choice would be to define exists as a different class from rooms.\n",
    "\n",
    "The differences between those designs are  important, and will have long-term consequences for the project. This is how we start to think about **software engineering** rather than learning to program."
   ]
  },
  {
   "cell_type": "markdown",
   "metadata": {},
   "source": [
    "## Working with files and data\n",
    "\n",
    "### Loading data from files\n",
    "\n",
    "An important use of Python is analysing and visualising data. Various formats: csv, tsv, json, yaml, hdf5, netcdf... First, look at the question of data *transport*: loading from a disk and downloading from internet. Then, look at data *parsing*: building Python structures from the data."
   ]
  },
  {
   "cell_type": "markdown",
   "metadata": {},
   "source": [
    "If we put ```%%writefile mydata.txt``` at the top of a cell, instead of being interpreted as python, the cell contents are saved to disk."
   ]
  },
  {
   "cell_type": "code",
   "execution_count": 80,
   "metadata": {},
   "outputs": [
    {
     "name": "stdout",
     "output_type": "stream",
     "text": [
      "Overwriting mydata.txt\n"
     ]
    }
   ],
   "source": [
    "%%writefile mydata.txt\n",
    "A poet once said, 'The whole universe is in a glass of wine.'\n",
    "We will probably never know in what sense he meant it, \n",
    "for poets do not write to be understood. \n",
    "But it is true that if we look at a glass of wine closely enough we see the entire universe. \n",
    "There are the things of physics: the twisting liquid which evaporates depending\n",
    "on the wind and weather, the reflection in the glass;\n",
    "and our imagination adds atoms.\n",
    "The glass is a distillation of the earth's rocks,\n",
    "and in its composition we see the secrets of the universe's age, and the evolution of stars. \n",
    "What strange array of chemicals are in the wine? How did they come to be? \n",
    "There are the ferments, the enzymes, the substrates, and the products.\n",
    "There in wine is found the great generalization; all life is fermentation.\n",
    "Nobody can discover the chemistry of wine without discovering, \n",
    "as did Louis Pasteur, the cause of much disease.\n",
    "How vivid is the claret, pressing its existence into the consciousness that watches it!\n",
    "If our small minds, for some convenience, divide this glass of wine, this universe, \n",
    "into parts -- \n",
    "physics, biology, geology, astronomy, psychology, and so on -- \n",
    "remember that nature does not know it!\n",
    "\n",
    "So let us put it all back together, not forgetting ultimately what it is for.\n",
    "Let it give us one more final pleasure; drink it and forget it all!\n",
    "   - Richard Feynman"
   ]
  },
  {
   "cell_type": "markdown",
   "metadata": {},
   "source": [
    "It went to the current folder, the working directory by default for a notebook."
   ]
  },
  {
   "cell_type": "code",
   "execution_count": 81,
   "metadata": {},
   "outputs": [
    {
     "data": {
      "text/plain": [
       "'/Users/aymericvie/Documents/GitHub/RSE_Turing/units'"
      ]
     },
     "execution_count": 81,
     "metadata": {},
     "output_type": "execute_result"
    }
   ],
   "source": [
    "import os \n",
    "os.getcwd() # find where we are on disk"
   ]
  },
  {
   "cell_type": "markdown",
   "metadata": {},
   "source": [
    "Use list comprehension to filter all the extraneous files:"
   ]
  },
  {
   "cell_type": "code",
   "execution_count": 82,
   "metadata": {},
   "outputs": [
    {
     "data": {
      "text/plain": [
       "['mydata.txt']"
      ]
     },
     "execution_count": 82,
     "metadata": {},
     "output_type": "execute_result"
    }
   ],
   "source": [
    "[x for x in os.listdir(os.getcwd()) if \".txt\" in x]"
   ]
  },
  {
   "cell_type": "markdown",
   "metadata": {},
   "source": [
    "### Path independence and ```os```\n",
    "\n",
    "We can use ```dirname``` to get the parent folder for a folder."
   ]
  },
  {
   "cell_type": "code",
   "execution_count": 83,
   "metadata": {},
   "outputs": [
    {
     "data": {
      "text/plain": [
       "'/Users/aymericvie/Documents/GitHub/RSE_Turing'"
      ]
     },
     "execution_count": 83,
     "metadata": {},
     "output_type": "execute_result"
    }
   ],
   "source": [
    "os.path.dirname(os.getcwd())"
   ]
  },
  {
   "cell_type": "markdown",
   "metadata": {},
   "source": [
    "Or manually using ```split```."
   ]
  },
  {
   "cell_type": "code",
   "execution_count": 87,
   "metadata": {},
   "outputs": [
    {
     "data": {
      "text/plain": [
       "'/Users/aymericvie/Documents/GitHub/RSE_Turing'"
      ]
     },
     "execution_count": 87,
     "metadata": {},
     "output_type": "execute_result"
    }
   ],
   "source": [
    "\"/\".join(os.getcwd().split(\"/\")[:-1])\n",
    "# does not work on Windows where path elements are separated by ```\\``` rather than ```/````"
   ]
  },
  {
   "cell_type": "markdown",
   "metadata": {},
   "source": [
    "Let's read our file."
   ]
  },
  {
   "cell_type": "code",
   "execution_count": 90,
   "metadata": {},
   "outputs": [
    {
     "data": {
      "text/plain": [
       "_io.TextIOWrapper"
      ]
     },
     "execution_count": 90,
     "metadata": {},
     "output_type": "execute_result"
    }
   ],
   "source": [
    "myfile = open(\"mydata.txt\")\n",
    "type(myfile)"
   ]
  },
  {
   "cell_type": "markdown",
   "metadata": {},
   "source": [
    "We can treat the file as an interable and go line by line."
   ]
  },
  {
   "cell_type": "code",
   "execution_count": 91,
   "metadata": {},
   "outputs": [
    {
     "data": {
      "text/plain": [
       "[\"A poet once said, 'The whole universe is in a glass of wine.'\\n\",\n",
       " 'We will probably never know in what sense he meant it, \\n',\n",
       " 'for poets do not write to be understood. \\n',\n",
       " 'But it is true that if we look at a glass of wine closely enough we see the entire universe. \\n',\n",
       " 'There are the things of physics: the twisting liquid which evaporates depending\\n',\n",
       " 'on the wind and weather, the reflection in the glass;\\n',\n",
       " 'and our imagination adds atoms.\\n',\n",
       " \"The glass is a distillation of the earth's rocks,\\n\",\n",
       " \"and in its composition we see the secrets of the universe's age, and the evolution of stars. \\n\",\n",
       " 'What strange array of chemicals are in the wine? How did they come to be? \\n',\n",
       " 'There are the ferments, the enzymes, the substrates, and the products.\\n',\n",
       " 'There in wine is found the great generalization; all life is fermentation.\\n',\n",
       " 'Nobody can discover the chemistry of wine without discovering, \\n',\n",
       " 'as did Louis Pasteur, the cause of much disease.\\n',\n",
       " 'How vivid is the claret, pressing its existence into the consciousness that watches it!\\n',\n",
       " 'If our small minds, for some convenience, divide this glass of wine, this universe, \\n',\n",
       " 'into parts -- \\n',\n",
       " 'physics, biology, geology, astronomy, psychology, and so on -- \\n',\n",
       " 'remember that nature does not know it!\\n',\n",
       " '\\n',\n",
       " 'So let us put it all back together, not forgetting ultimately what it is for.\\n',\n",
       " 'Let it give us one more final pleasure; drink it and forget it all!\\n',\n",
       " '   - Richard Feynman\\n']"
      ]
     },
     "execution_count": 91,
     "metadata": {},
     "output_type": "execute_result"
    }
   ],
   "source": [
    "[x for x in myfile]"
   ]
  },
  {
   "cell_type": "markdown",
   "metadata": {},
   "source": [
    "But if we do it again, the file has already finished and there is no more data."
   ]
  },
  {
   "cell_type": "code",
   "execution_count": 92,
   "metadata": {},
   "outputs": [
    {
     "data": {
      "text/plain": [
       "[]"
      ]
     },
     "execution_count": 92,
     "metadata": {},
     "output_type": "execute_result"
    }
   ],
   "source": [
    "[x for x in myfile]"
   ]
  },
  {
   "cell_type": "markdown",
   "metadata": {},
   "source": [
    "We need to `rewind` it.\n",
    "\n",
    "Remember that a file is a different built-in type than a string."
   ]
  },
  {
   "cell_type": "code",
   "execution_count": 94,
   "metadata": {},
   "outputs": [
    {
     "data": {
      "text/plain": [
       "[56, 39]"
      ]
     },
     "execution_count": 94,
     "metadata": {},
     "output_type": "execute_result"
    }
   ],
   "source": [
    "myfile.seek(0)\n",
    "[len(x) for x in myfile if \"know\" in x]"
   ]
  },
  {
   "cell_type": "markdown",
   "metadata": {},
   "source": [
    "We can read one line at a time with ```readline```."
   ]
  },
  {
   "cell_type": "code",
   "execution_count": 95,
   "metadata": {},
   "outputs": [
    {
     "name": "stdout",
     "output_type": "stream",
     "text": [
      "A poet once said, 'The whole universe is in a glass of wine.'\n",
      "\n",
      "We will probably never know in what sense he meant it, \n",
      "\n"
     ]
    }
   ],
   "source": [
    "myfile.seek(0)\n",
    "first = myfile.readline()\n",
    "second = myfile.readline()\n",
    "print(first)\n",
    "print(second)"
   ]
  },
  {
   "cell_type": "markdown",
   "metadata": {},
   "source": [
    "When a file is first open, read is useful to just get the whole thing as a string."
   ]
  },
  {
   "cell_type": "code",
   "execution_count": 97,
   "metadata": {},
   "outputs": [
    {
     "name": "stdout",
     "output_type": "stream",
     "text": [
      "\n"
     ]
    }
   ],
   "source": [
    "rest = myfile.read()\n",
    "print(rest)"
   ]
  },
  {
   "cell_type": "code",
   "execution_count": 98,
   "metadata": {},
   "outputs": [
    {
     "data": {
      "text/plain": [
       "\"A poet once said, 'The whole universe is in a glass of wine.'\\nWe will probably never know in what sense he meant it, \\nfor poets do not write to be understood. \\nBut it is true that if we look at a glass of wine closely enough we see the entire universe. \\nThere are the things of physics: the twisting liquid which evaporates depending\\non the wind and weather, the reflection in the glass;\\nand our imagination adds atoms.\\nThe glass is a distillation of the earth's rocks,\\nand in its composition we see the secrets of the universe's age, and the evolution of stars. \\nWhat strange array of chemicals are in the wine? How did they come to be? \\nThere are the ferments, the enzymes, the substrates, and the products.\\nThere in wine is found the great generalization; all life is fermentation.\\nNobody can discover the chemistry of wine without discovering, \\nas did Louis Pasteur, the cause of much disease.\\nHow vivid is the claret, pressing its existence into the consciousness that watches it!\\nIf our small minds, for some convenience, divide this glass of wine, this universe, \\ninto parts -- \\nphysics, biology, geology, astronomy, psychology, and so on -- \\nremember that nature does not know it!\\n\\nSo let us put it all back together, not forgetting ultimately what it is for.\\nLet it give us one more final pleasure; drink it and forget it all!\\n   - Richard Feynman\\n\""
      ]
     },
     "execution_count": 98,
     "metadata": {},
     "output_type": "execute_result"
    }
   ],
   "source": [
    "open(\"mydata.txt\").read()"
   ]
  },
  {
   "cell_type": "markdown",
   "metadata": {},
   "source": [
    "We can also read just a few characters."
   ]
  },
  {
   "cell_type": "code",
   "execution_count": 100,
   "metadata": {},
   "outputs": [
    {
     "data": {
      "text/plain": [
       "'\\n   - Richard F'"
      ]
     },
     "execution_count": 100,
     "metadata": {},
     "output_type": "execute_result"
    }
   ],
   "source": [
    "myfile.seek(1335)\n",
    "myfile.read(15)"
   ]
  },
  {
   "cell_type": "markdown",
   "metadata": {},
   "source": [
    "#### Converting strings to files\n",
    "\n",
    "Files and strings are different types. We cannot just treat strings as if they were files."
   ]
  },
  {
   "cell_type": "code",
   "execution_count": 101,
   "metadata": {},
   "outputs": [
    {
     "data": {
      "text/plain": [
       "'Hello World\\n My name is James'"
      ]
     },
     "execution_count": 101,
     "metadata": {},
     "output_type": "execute_result"
    }
   ],
   "source": [
    "mystring = \"Hello World\\n My name is James\"\n",
    "mystring"
   ]
  },
  {
   "cell_type": "code",
   "execution_count": 103,
   "metadata": {},
   "outputs": [],
   "source": [
    "# mystring.readline()\n",
    "# AttributeError: 'str' object has no attribute 'readline'"
   ]
  },
  {
   "cell_type": "markdown",
   "metadata": {},
   "source": [
    "\n",
    "This is important because some file format parsers expect input from a file and not a string.\n",
    "\n",
    "We can convert between them using the ```StringIO``` class of the ```io``` module in the standard library."
   ]
  },
  {
   "cell_type": "code",
   "execution_count": 104,
   "metadata": {},
   "outputs": [
    {
     "data": {
      "text/plain": [
       "'Hello World\\n'"
      ]
     },
     "execution_count": 104,
     "metadata": {},
     "output_type": "execute_result"
    }
   ],
   "source": [
    "from io import StringIO\n",
    "mystringasafile = StringIO(mystring)\n",
    "mystringasafile.readline()\n",
    "\n",
    "# note that in a string \\n is used to represent a newline."
   ]
  },
  {
   "cell_type": "markdown",
   "metadata": {},
   "source": [
    "#### Closing files"
   ]
  },
  {
   "cell_type": "markdown",
   "metadata": {},
   "source": [
    "## Interacting with the Internet"
   ]
  },
  {
   "cell_type": "markdown",
   "metadata": {},
   "source": []
  }
 ],
 "metadata": {
  "interpreter": {
   "hash": "aee8b7b246df8f9039afb4144a1f6fd8d2ca17a180786b69acc140d282b71a49"
  },
  "kernelspec": {
   "display_name": "Python 3.9.6 64-bit",
   "language": "python",
   "name": "python3"
  },
  "language_info": {
   "codemirror_mode": {
    "name": "ipython",
    "version": 3
   },
   "file_extension": ".py",
   "mimetype": "text/x-python",
   "name": "python",
   "nbconvert_exporter": "python",
   "pygments_lexer": "ipython3",
   "version": "3.9.6"
  },
  "orig_nbformat": 4
 },
 "nbformat": 4,
 "nbformat_minor": 2
}
