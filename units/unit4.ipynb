{
 "cells": [
  {
   "cell_type": "markdown",
   "metadata": {},
   "source": [
    "# Version Control\n",
    "\n",
    "https://alan-turing-institute.github.io/rse-course/html/module04_version_control_with_git/index.html"
   ]
  },
  {
   "cell_type": "markdown",
   "metadata": {},
   "source": [
    "## Introduction\n",
    "\n",
    "Why Version Control? Backup, review history, access older code versions, undo mistakes, collaborate.\n",
    "Git is not Github: Git is a version control system tool to manage source code history. GitHub is a hosting service for Git repositories.\n"
   ]
  },
  {
   "cell_type": "markdown",
   "metadata": {},
   "source": [
    "## Solo work with Git\n",
    "```git commit -m \"First commit\"```\n",
    "```git log```\n",
    "```git status```tells us if our working directory is up to date with the repository. It will notice unstaged changes.\n",
    "\n",
    "Git will only commit changes to files that we chose to include in each commit.\n",
    "```git diff``` to spot difference between files.\n",
    "\n",
    "So we have to stafge a file to be included in the next commit.\n",
    "```git add --update```= include in the next commit all files that have never been ever included before.\n",
    "\n",
    "```git commit -am \"Change Title\"```automatically adds changes to all tracked files to the staging area.\n",
    "Or also: ```git add test.md```"
   ]
  },
  {
   "cell_type": "markdown",
   "metadata": {},
   "source": [
    "## Fixing mistakes\n"
   ]
  },
  {
   "cell_type": "markdown",
   "metadata": {},
   "source": [
    "## Publishing\n",
    "Simply use GitHub, create a repo, etc.\n"
   ]
  },
  {
   "cell_type": "markdown",
   "metadata": {},
   "source": [
    "## Collaboration\n"
   ]
  },
  {
   "cell_type": "markdown",
   "metadata": {},
   "source": [
    "## Fork and Pull\n",
    "\n",
    "Forking = making a copy that I can modify.\n",
    "Pull request: suggest some corrections to the repo, e.g. numpy.\n"
   ]
  },
  {
   "cell_type": "markdown",
   "metadata": {},
   "source": [
    "## Git Theory\n"
   ]
  },
  {
   "cell_type": "markdown",
   "metadata": {},
   "source": [
    "## Branches\n",
    "\n",
    "Very useful to maintain second version of software to work on in parallel, and pull changes when ready\n",
    "\n",
    "```git branch```tells which branch we are in.\n",
    "```git checkout -b experiment```creates a new experiment branch\n",
    "```git push -u origin experiment```\n",
    "```git merge experiment```Merges branches\n",
    "```git branch -d experiment```  deletes a branch\n",
    "```git push --delete origin experiment ```\n",
    "\n",
    "Good branch strategy: \n",
    "* a `production/main` branch, current working version of the code\n",
    "* a `develop` branch where new code can be tested\n",
    "* `feature` branches for new ideas, specific features\n",
    "* `release` branches for sharing code with others"
   ]
  },
  {
   "cell_type": "markdown",
   "metadata": {},
   "source": [
    "## Git Stash\n"
   ]
  },
  {
   "cell_type": "markdown",
   "metadata": {},
   "source": [
    "## Working with multiple remotes\n"
   ]
  },
  {
   "cell_type": "markdown",
   "metadata": {},
   "source": [
    "## Rebasing\n",
    "Two ways to get someone else's work into yours. Git merge is the firt, rebase is the second.\n",
    "The merge brings branches together. In a rebase, git tries to workout What would you need to have done, to make your changes, if your olleague had already made theirs.\n"
   ]
  },
  {
   "cell_type": "markdown",
   "metadata": {},
   "source": [
    "## Debugging With Git Bisect"
   ]
  }
 ],
 "metadata": {
  "kernelspec": {
   "display_name": "Python 3.9.6 64-bit",
   "language": "python",
   "name": "python3"
  },
  "language_info": {
   "name": "python",
   "version": "3.9.6"
  },
  "orig_nbformat": 4,
  "vscode": {
   "interpreter": {
    "hash": "dbe13e8ecf7f902daa0bac59e856e82ccef02589d1c9f5ba2af2c82aa720c033"
   }
  }
 },
 "nbformat": 4,
 "nbformat_minor": 2
}
